{
 "cells": [
  {
   "cell_type": "markdown",
   "id": "1abd6362-b4cf-4dab-9966-842e2158109d",
   "metadata": {},
   "source": [
    "# Contents : Marketing\n",
    "# 1. 라이브러리 불러오기"
   ]
  },
  {
   "cell_type": "code",
   "execution_count": 43,
   "id": "1a7c0acd-2f5c-4c94-b8d4-1ca8f70a8a57",
   "metadata": {},
   "outputs": [],
   "source": [
    "import pandas as pd\n",
    "import numpy as np\n",
    "import seaborn as sns\n",
    "import matplotlib.pyplot as plt\n",
    "import glob\n",
    "import datetime as dt\n",
    "import os\n",
    "\n",
    "import warnings\n",
    "warnings.filterwarnings('ignore')"
   ]
  },
  {
   "cell_type": "markdown",
   "id": "1b3ff138-5231-4a37-9e95-3d35ae8d461b",
   "metadata": {},
   "source": [
    "# 2. 폰트설정"
   ]
  },
  {
   "cell_type": "code",
   "execution_count": 44,
   "id": "d9b47264-c745-49fc-87ef-68498b87402d",
   "metadata": {},
   "outputs": [],
   "source": [
    "def get_font_family():\n",
    "    \"\"\"\n",
    "    시스템 환경에 따른 기본 폰트명을 반환하는 함수\n",
    "    \"\"\"\n",
    "    import platform\n",
    "    system_name = platform.system()\n",
    "\n",
    "    if system_name == \"Darwin\" :\n",
    "        font_family = \"AppleGothic\"\n",
    "    elif system_name == \"Windows\":\n",
    "        font_family = \"Malgun Gothic\"\n",
    "    else:\n",
    "        # Linux(Colab)\n",
    "        !apt-get install fonts-nanum -qq  > /dev/null\n",
    "        !fc-cache -fv\n",
    "\n",
    "        import matplotlib as mpl\n",
    "        mpl.font_manager._rebuild()\n",
    "        findfont = mpl.font_manager.fontManager.findfont\n",
    "        mpl.font_manager.findfont = findfont\n",
    "        mpl.backends.backend_agg.findfont = findfont\n",
    "        \n",
    "        font_family = \"NanumBarunGothic\"\n",
    "    return font_family\n",
    "\n",
    "plt.rc(\"font\", family=get_font_family())\n",
    "plt.rc(\"axes\", unicode_minus=False)"
   ]
  },
  {
   "cell_type": "code",
   "execution_count": 45,
   "id": "491c3405-31a9-465c-9857-45f4e9175dc0",
   "metadata": {},
   "outputs": [],
   "source": [
    "pd.options.display.max_columns=None\n",
    "# pd.options.display.max_rows=10"
   ]
  },
  {
   "cell_type": "markdown",
   "id": "b1ae62aa-002a-4164-97b6-f7635167d4db",
   "metadata": {},
   "source": [
    "# 3. 데이터불러오기(mql, closed_deal)"
   ]
  },
  {
   "cell_type": "code",
   "execution_count": 46,
   "id": "f9fcccb1-427a-40f0-bd71-fd19ef3cc54a",
   "metadata": {},
   "outputs": [
    {
     "data": {
      "text/plain": [
       "['../PJT_01/NanoDegree_PJT1/1.EDA/data\\\\olist_closed_deals_dataset.csv',\n",
       " '../PJT_01/NanoDegree_PJT1/1.EDA/data\\\\olist_customers_dataset.csv',\n",
       " '../PJT_01/NanoDegree_PJT1/1.EDA/data\\\\olist_geolocation_dataset.csv',\n",
       " '../PJT_01/NanoDegree_PJT1/1.EDA/data\\\\olist_marketing_qualified_leads_dataset.csv',\n",
       " '../PJT_01/NanoDegree_PJT1/1.EDA/data\\\\olist_orders_dataset.csv',\n",
       " '../PJT_01/NanoDegree_PJT1/1.EDA/data\\\\olist_order_items_dataset.csv',\n",
       " '../PJT_01/NanoDegree_PJT1/1.EDA/data\\\\olist_order_payments_dataset.csv',\n",
       " '../PJT_01/NanoDegree_PJT1/1.EDA/data\\\\olist_order_reviews_dataset.csv',\n",
       " '../PJT_01/NanoDegree_PJT1/1.EDA/data\\\\olist_products_dataset.csv',\n",
       " '../PJT_01/NanoDegree_PJT1/1.EDA/data\\\\olist_sellers_dataset.csv',\n",
       " '../PJT_01/NanoDegree_PJT1/1.EDA/data\\\\product_category_name_translation.csv']"
      ]
     },
     "execution_count": 46,
     "metadata": {},
     "output_type": "execute_result"
    }
   ],
   "source": [
    "# 원본 데이터들\n",
    "path = glob.glob('../PJT_01/NanoDegree_PJT1/1.EDA/data/*.*')\n",
    "path"
   ]
  },
  {
   "cell_type": "code",
   "execution_count": 63,
   "id": "adf5ca5b-95c7-47dd-89a6-db2fa30d9312",
   "metadata": {},
   "outputs": [
    {
     "data": {
      "text/plain": [
       "(8000, 4)"
      ]
     },
     "execution_count": 63,
     "metadata": {},
     "output_type": "execute_result"
    }
   ],
   "source": [
    "mql = pd.read_csv('../PJT_01/NanoDegree_PJT1/1.EDA/data\\\\olist_marketing_qualified_leads_dataset.csv')\n",
    "mql.shape"
   ]
  },
  {
   "cell_type": "code",
   "execution_count": 106,
   "id": "29609460-83d9-4dc4-acde-64cefd578547",
   "metadata": {},
   "outputs": [
    {
     "data": {
      "text/plain": [
       "(842, 14)"
      ]
     },
     "execution_count": 106,
     "metadata": {},
     "output_type": "execute_result"
    }
   ],
   "source": [
    "closed_deals = pd.read_csv('../PJT_01/NanoDegree_PJT1/1.EDA/data\\\\olist_closed_deals_dataset.csv')\n",
    "closed_deals.shape"
   ]
  },
  {
   "cell_type": "markdown",
   "id": "1566cf59-ae97-421e-9de1-14bd798a2b5c",
   "metadata": {},
   "source": [
    "# 4.데이터 확인"
   ]
  },
  {
   "cell_type": "code",
   "execution_count": 107,
   "id": "a48a5509-1455-42d9-a7d4-24ef2a7cf47e",
   "metadata": {},
   "outputs": [
    {
     "data": {
      "text/html": [
       "<div>\n",
       "<style scoped>\n",
       "    .dataframe tbody tr th:only-of-type {\n",
       "        vertical-align: middle;\n",
       "    }\n",
       "\n",
       "    .dataframe tbody tr th {\n",
       "        vertical-align: top;\n",
       "    }\n",
       "\n",
       "    .dataframe thead th {\n",
       "        text-align: right;\n",
       "    }\n",
       "</style>\n",
       "<table border=\"1\" class=\"dataframe\">\n",
       "  <thead>\n",
       "    <tr style=\"text-align: right;\">\n",
       "      <th></th>\n",
       "      <th>mql_id</th>\n",
       "      <th>seller_id</th>\n",
       "      <th>sdr_id</th>\n",
       "      <th>sr_id</th>\n",
       "      <th>won_date</th>\n",
       "      <th>business_segment</th>\n",
       "      <th>lead_type</th>\n",
       "      <th>lead_behaviour_profile</th>\n",
       "      <th>has_company</th>\n",
       "      <th>has_gtin</th>\n",
       "      <th>average_stock</th>\n",
       "      <th>business_type</th>\n",
       "      <th>declared_product_catalog_size</th>\n",
       "      <th>declared_monthly_revenue</th>\n",
       "    </tr>\n",
       "  </thead>\n",
       "  <tbody>\n",
       "    <tr>\n",
       "      <th>0</th>\n",
       "      <td>5420aad7fec3549a85876ba1c529bd84</td>\n",
       "      <td>2c43fb513632d29b3b58df74816f1b06</td>\n",
       "      <td>a8387c01a09e99ce014107505b92388c</td>\n",
       "      <td>4ef15afb4b2723d8f3d81e51ec7afefe</td>\n",
       "      <td>2018-02-26 19:58:54</td>\n",
       "      <td>pet</td>\n",
       "      <td>online_medium</td>\n",
       "      <td>cat</td>\n",
       "      <td>NaN</td>\n",
       "      <td>NaN</td>\n",
       "      <td>NaN</td>\n",
       "      <td>reseller</td>\n",
       "      <td>NaN</td>\n",
       "      <td>0.0</td>\n",
       "    </tr>\n",
       "    <tr>\n",
       "      <th>1</th>\n",
       "      <td>a555fb36b9368110ede0f043dfc3b9a0</td>\n",
       "      <td>bbb7d7893a450660432ea6652310ebb7</td>\n",
       "      <td>09285259593c61296eef10c734121d5b</td>\n",
       "      <td>d3d1e91a157ea7f90548eef82f1955e3</td>\n",
       "      <td>2018-05-08 20:17:59</td>\n",
       "      <td>car_accessories</td>\n",
       "      <td>industry</td>\n",
       "      <td>eagle</td>\n",
       "      <td>NaN</td>\n",
       "      <td>NaN</td>\n",
       "      <td>NaN</td>\n",
       "      <td>reseller</td>\n",
       "      <td>NaN</td>\n",
       "      <td>0.0</td>\n",
       "    </tr>\n",
       "  </tbody>\n",
       "</table>\n",
       "</div>"
      ],
      "text/plain": [
       "                             mql_id                         seller_id  \\\n",
       "0  5420aad7fec3549a85876ba1c529bd84  2c43fb513632d29b3b58df74816f1b06   \n",
       "1  a555fb36b9368110ede0f043dfc3b9a0  bbb7d7893a450660432ea6652310ebb7   \n",
       "\n",
       "                             sdr_id                             sr_id  \\\n",
       "0  a8387c01a09e99ce014107505b92388c  4ef15afb4b2723d8f3d81e51ec7afefe   \n",
       "1  09285259593c61296eef10c734121d5b  d3d1e91a157ea7f90548eef82f1955e3   \n",
       "\n",
       "              won_date business_segment      lead_type lead_behaviour_profile  \\\n",
       "0  2018-02-26 19:58:54              pet  online_medium                    cat   \n",
       "1  2018-05-08 20:17:59  car_accessories       industry                  eagle   \n",
       "\n",
       "  has_company has_gtin average_stock business_type  \\\n",
       "0         NaN      NaN           NaN      reseller   \n",
       "1         NaN      NaN           NaN      reseller   \n",
       "\n",
       "   declared_product_catalog_size  declared_monthly_revenue  \n",
       "0                            NaN                       0.0  \n",
       "1                            NaN                       0.0  "
      ]
     },
     "execution_count": 107,
     "metadata": {},
     "output_type": "execute_result"
    }
   ],
   "source": [
    "closed_deals.head(2)"
   ]
  },
  {
   "cell_type": "code",
   "execution_count": 108,
   "id": "64788bc4-6f17-4236-809f-71e2b184e4e3",
   "metadata": {},
   "outputs": [
    {
     "data": {
      "text/html": [
       "<div>\n",
       "<style scoped>\n",
       "    .dataframe tbody tr th:only-of-type {\n",
       "        vertical-align: middle;\n",
       "    }\n",
       "\n",
       "    .dataframe tbody tr th {\n",
       "        vertical-align: top;\n",
       "    }\n",
       "\n",
       "    .dataframe thead th {\n",
       "        text-align: right;\n",
       "    }\n",
       "</style>\n",
       "<table border=\"1\" class=\"dataframe\">\n",
       "  <thead>\n",
       "    <tr style=\"text-align: right;\">\n",
       "      <th></th>\n",
       "      <th>mql_id</th>\n",
       "      <th>seller_id</th>\n",
       "      <th>sdr_id</th>\n",
       "      <th>sr_id</th>\n",
       "      <th>won_date</th>\n",
       "      <th>business_segment</th>\n",
       "      <th>lead_type</th>\n",
       "      <th>lead_behaviour_profile</th>\n",
       "      <th>has_company</th>\n",
       "      <th>has_gtin</th>\n",
       "      <th>average_stock</th>\n",
       "      <th>business_type</th>\n",
       "      <th>declared_product_catalog_size</th>\n",
       "      <th>declared_monthly_revenue</th>\n",
       "    </tr>\n",
       "  </thead>\n",
       "  <tbody>\n",
       "    <tr>\n",
       "      <th>840</th>\n",
       "      <td>40955be51cc85c5a5a6cdd12b19e9f10</td>\n",
       "      <td>c0e933c238e41f0cd459d6025ee9b364</td>\n",
       "      <td>068066e24f0c643eb1d089c7dd20cd73</td>\n",
       "      <td>d3d1e91a157ea7f90548eef82f1955e3</td>\n",
       "      <td>2018-03-06 15:52:23</td>\n",
       "      <td>pet</td>\n",
       "      <td>online_beginner</td>\n",
       "      <td>cat</td>\n",
       "      <td>NaN</td>\n",
       "      <td>NaN</td>\n",
       "      <td>NaN</td>\n",
       "      <td>reseller</td>\n",
       "      <td>NaN</td>\n",
       "      <td>0.0</td>\n",
       "    </tr>\n",
       "    <tr>\n",
       "      <th>841</th>\n",
       "      <td>8a6492305a5fbcdcdd1a7f5a90764c07</td>\n",
       "      <td>1bba9c94eb5c4e82fba9f7286fe81025</td>\n",
       "      <td>56bf83c4bb35763a51c2baab501b4c67</td>\n",
       "      <td>de63de0d10a6012430098db33c679b0b</td>\n",
       "      <td>2018-05-02 13:31:32</td>\n",
       "      <td>household_utilities</td>\n",
       "      <td>industry</td>\n",
       "      <td>eagle</td>\n",
       "      <td>NaN</td>\n",
       "      <td>NaN</td>\n",
       "      <td>NaN</td>\n",
       "      <td>manufacturer</td>\n",
       "      <td>NaN</td>\n",
       "      <td>0.0</td>\n",
       "    </tr>\n",
       "  </tbody>\n",
       "</table>\n",
       "</div>"
      ],
      "text/plain": [
       "                               mql_id                         seller_id  \\\n",
       "840  40955be51cc85c5a5a6cdd12b19e9f10  c0e933c238e41f0cd459d6025ee9b364   \n",
       "841  8a6492305a5fbcdcdd1a7f5a90764c07  1bba9c94eb5c4e82fba9f7286fe81025   \n",
       "\n",
       "                               sdr_id                             sr_id  \\\n",
       "840  068066e24f0c643eb1d089c7dd20cd73  d3d1e91a157ea7f90548eef82f1955e3   \n",
       "841  56bf83c4bb35763a51c2baab501b4c67  de63de0d10a6012430098db33c679b0b   \n",
       "\n",
       "                won_date     business_segment        lead_type  \\\n",
       "840  2018-03-06 15:52:23                  pet  online_beginner   \n",
       "841  2018-05-02 13:31:32  household_utilities         industry   \n",
       "\n",
       "    lead_behaviour_profile has_company has_gtin average_stock business_type  \\\n",
       "840                    cat         NaN      NaN           NaN      reseller   \n",
       "841                  eagle         NaN      NaN           NaN  manufacturer   \n",
       "\n",
       "     declared_product_catalog_size  declared_monthly_revenue  \n",
       "840                            NaN                       0.0  \n",
       "841                            NaN                       0.0  "
      ]
     },
     "execution_count": 108,
     "metadata": {},
     "output_type": "execute_result"
    }
   ],
   "source": [
    "closed_deals.tail(2)"
   ]
  },
  {
   "cell_type": "code",
   "execution_count": 67,
   "id": "2b91ce48-1768-4883-affa-2bfb167d4c44",
   "metadata": {},
   "outputs": [
    {
     "name": "stdout",
     "output_type": "stream",
     "text": [
      "<class 'pandas.core.frame.DataFrame'>\n",
      "RangeIndex: 842 entries, 0 to 841\n",
      "Data columns (total 14 columns):\n",
      " #   Column                         Non-Null Count  Dtype  \n",
      "---  ------                         --------------  -----  \n",
      " 0   mql_id                         842 non-null    object \n",
      " 1   seller_id                      842 non-null    object \n",
      " 2   sdr_id                         842 non-null    object \n",
      " 3   sr_id                          842 non-null    object \n",
      " 4   won_date                       842 non-null    object \n",
      " 5   business_segment               841 non-null    object \n",
      " 6   lead_type                      836 non-null    object \n",
      " 7   lead_behaviour_profile         665 non-null    object \n",
      " 8   has_company                    63 non-null     object \n",
      " 9   has_gtin                       64 non-null     object \n",
      " 10  average_stock                  66 non-null     object \n",
      " 11  business_type                  832 non-null    object \n",
      " 12  declared_product_catalog_size  69 non-null     float64\n",
      " 13  declared_monthly_revenue       842 non-null    float64\n",
      "dtypes: float64(2), object(12)\n",
      "memory usage: 92.2+ KB\n"
     ]
    }
   ],
   "source": [
    "close_deals.info()"
   ]
  },
  {
   "cell_type": "code",
   "execution_count": 68,
   "id": "abcc83ad-0834-4b28-977d-7e9a25d8fdf7",
   "metadata": {},
   "outputs": [
    {
     "data": {
      "text/html": [
       "<div>\n",
       "<style scoped>\n",
       "    .dataframe tbody tr th:only-of-type {\n",
       "        vertical-align: middle;\n",
       "    }\n",
       "\n",
       "    .dataframe tbody tr th {\n",
       "        vertical-align: top;\n",
       "    }\n",
       "\n",
       "    .dataframe thead th {\n",
       "        text-align: right;\n",
       "    }\n",
       "</style>\n",
       "<table border=\"1\" class=\"dataframe\">\n",
       "  <thead>\n",
       "    <tr style=\"text-align: right;\">\n",
       "      <th></th>\n",
       "      <th>mql_id</th>\n",
       "      <th>first_contact_date</th>\n",
       "      <th>landing_page_id</th>\n",
       "      <th>origin</th>\n",
       "    </tr>\n",
       "  </thead>\n",
       "  <tbody>\n",
       "    <tr>\n",
       "      <th>0</th>\n",
       "      <td>dac32acd4db4c29c230538b72f8dd87d</td>\n",
       "      <td>2018-02-01</td>\n",
       "      <td>88740e65d5d6b056e0cda098e1ea6313</td>\n",
       "      <td>social</td>\n",
       "    </tr>\n",
       "    <tr>\n",
       "      <th>1</th>\n",
       "      <td>8c18d1de7f67e60dbd64e3c07d7e9d5d</td>\n",
       "      <td>2017-10-20</td>\n",
       "      <td>007f9098284a86ee80ddeb25d53e0af8</td>\n",
       "      <td>paid_search</td>\n",
       "    </tr>\n",
       "  </tbody>\n",
       "</table>\n",
       "</div>"
      ],
      "text/plain": [
       "                             mql_id first_contact_date  \\\n",
       "0  dac32acd4db4c29c230538b72f8dd87d         2018-02-01   \n",
       "1  8c18d1de7f67e60dbd64e3c07d7e9d5d         2017-10-20   \n",
       "\n",
       "                    landing_page_id       origin  \n",
       "0  88740e65d5d6b056e0cda098e1ea6313       social  \n",
       "1  007f9098284a86ee80ddeb25d53e0af8  paid_search  "
      ]
     },
     "execution_count": 68,
     "metadata": {},
     "output_type": "execute_result"
    }
   ],
   "source": [
    "mql.head(2)"
   ]
  },
  {
   "cell_type": "code",
   "execution_count": 69,
   "id": "c40ea605-4e63-4a2c-881e-d680143fea68",
   "metadata": {},
   "outputs": [
    {
     "data": {
      "text/html": [
       "<div>\n",
       "<style scoped>\n",
       "    .dataframe tbody tr th:only-of-type {\n",
       "        vertical-align: middle;\n",
       "    }\n",
       "\n",
       "    .dataframe tbody tr th {\n",
       "        vertical-align: top;\n",
       "    }\n",
       "\n",
       "    .dataframe thead th {\n",
       "        text-align: right;\n",
       "    }\n",
       "</style>\n",
       "<table border=\"1\" class=\"dataframe\">\n",
       "  <thead>\n",
       "    <tr style=\"text-align: right;\">\n",
       "      <th></th>\n",
       "      <th>mql_id</th>\n",
       "      <th>first_contact_date</th>\n",
       "      <th>landing_page_id</th>\n",
       "      <th>origin</th>\n",
       "    </tr>\n",
       "  </thead>\n",
       "  <tbody>\n",
       "    <tr>\n",
       "      <th>7998</th>\n",
       "      <td>4f8c96e2509b984329044c6682c88ee9</td>\n",
       "      <td>2017-10-06</td>\n",
       "      <td>a56671a54260a44923d32c2f08fad39c</td>\n",
       "      <td>organic_search</td>\n",
       "    </tr>\n",
       "    <tr>\n",
       "      <th>7999</th>\n",
       "      <td>8a6492305a5fbcdcdd1a7f5a90764c07</td>\n",
       "      <td>2018-01-11</td>\n",
       "      <td>b76ef37428e6799c421989521c0e5077</td>\n",
       "      <td>direct_traffic</td>\n",
       "    </tr>\n",
       "  </tbody>\n",
       "</table>\n",
       "</div>"
      ],
      "text/plain": [
       "                                mql_id first_contact_date  \\\n",
       "7998  4f8c96e2509b984329044c6682c88ee9         2017-10-06   \n",
       "7999  8a6492305a5fbcdcdd1a7f5a90764c07         2018-01-11   \n",
       "\n",
       "                       landing_page_id          origin  \n",
       "7998  a56671a54260a44923d32c2f08fad39c  organic_search  \n",
       "7999  b76ef37428e6799c421989521c0e5077  direct_traffic  "
      ]
     },
     "execution_count": 69,
     "metadata": {},
     "output_type": "execute_result"
    }
   ],
   "source": [
    "mql.tail(2)"
   ]
  },
  {
   "cell_type": "code",
   "execution_count": 70,
   "id": "eac43370-a8bb-43b4-bd44-f09b215cf5e6",
   "metadata": {},
   "outputs": [
    {
     "name": "stdout",
     "output_type": "stream",
     "text": [
      "<class 'pandas.core.frame.DataFrame'>\n",
      "RangeIndex: 8000 entries, 0 to 7999\n",
      "Data columns (total 4 columns):\n",
      " #   Column              Non-Null Count  Dtype \n",
      "---  ------              --------------  ----- \n",
      " 0   mql_id              8000 non-null   object\n",
      " 1   first_contact_date  8000 non-null   object\n",
      " 2   landing_page_id     8000 non-null   object\n",
      " 3   origin              7940 non-null   object\n",
      "dtypes: object(4)\n",
      "memory usage: 250.1+ KB\n"
     ]
    }
   ],
   "source": [
    "mql.info()"
   ]
  },
  {
   "cell_type": "markdown",
   "id": "494af2de-b5d0-42cf-b6bd-fe26736d883b",
   "metadata": {},
   "source": [
    "# 5.데이터 정리\n",
    "## (1) 시간순"
   ]
  },
  {
   "cell_type": "code",
   "execution_count": 71,
   "id": "e450b9ea-5cbb-4d02-b70b-acdfe078d941",
   "metadata": {},
   "outputs": [
    {
     "data": {
      "text/html": [
       "<div>\n",
       "<style scoped>\n",
       "    .dataframe tbody tr th:only-of-type {\n",
       "        vertical-align: middle;\n",
       "    }\n",
       "\n",
       "    .dataframe tbody tr th {\n",
       "        vertical-align: top;\n",
       "    }\n",
       "\n",
       "    .dataframe thead th {\n",
       "        text-align: right;\n",
       "    }\n",
       "</style>\n",
       "<table border=\"1\" class=\"dataframe\">\n",
       "  <thead>\n",
       "    <tr style=\"text-align: right;\">\n",
       "      <th></th>\n",
       "      <th>mql_id</th>\n",
       "      <th>first_contact_date</th>\n",
       "      <th>landing_page_id</th>\n",
       "      <th>origin</th>\n",
       "    </tr>\n",
       "  </thead>\n",
       "  <tbody>\n",
       "    <tr>\n",
       "      <th>1973</th>\n",
       "      <td>0b99dab71519032b917dc641cdd7ac5b</td>\n",
       "      <td>2017-06-14</td>\n",
       "      <td>d41d8cd98f00b204e9800998ecf8427e</td>\n",
       "      <td>NaN</td>\n",
       "    </tr>\n",
       "    <tr>\n",
       "      <th>5232</th>\n",
       "      <td>6dd0ef38856fd5fb21aed5223aea9e66</td>\n",
       "      <td>2017-06-14</td>\n",
       "      <td>8f08d2ef8b9aec2ec5118fbcf7f96f11</td>\n",
       "      <td>display</td>\n",
       "    </tr>\n",
       "    <tr>\n",
       "      <th>5358</th>\n",
       "      <td>70bd89abdbdba90e471cd3d0bbdbac49</td>\n",
       "      <td>2017-06-16</td>\n",
       "      <td>8f08d2ef8b9aec2ec5118fbcf7f96f11</td>\n",
       "      <td>unknown</td>\n",
       "    </tr>\n",
       "    <tr>\n",
       "      <th>2676</th>\n",
       "      <td>98c9832865e4ab224a1649e8e6e9a2a0</td>\n",
       "      <td>2017-06-20</td>\n",
       "      <td>b6cd08ac77c501fd6857f7916d2c24f3</td>\n",
       "      <td>email</td>\n",
       "    </tr>\n",
       "    <tr>\n",
       "      <th>2976</th>\n",
       "      <td>e1e32379b464961f67fba6ddf6d4b3b7</td>\n",
       "      <td>2017-07-02</td>\n",
       "      <td>0b37d43dbde6452cdd94c17bf61a88e4</td>\n",
       "      <td>direct_traffic</td>\n",
       "    </tr>\n",
       "    <tr>\n",
       "      <th>...</th>\n",
       "      <td>...</td>\n",
       "      <td>...</td>\n",
       "      <td>...</td>\n",
       "      <td>...</td>\n",
       "    </tr>\n",
       "    <tr>\n",
       "      <th>7570</th>\n",
       "      <td>10bd89509a170e478e62697df43a5984</td>\n",
       "      <td>2018-05-31</td>\n",
       "      <td>58326e62183c14b0c03085c33b9fdc44</td>\n",
       "      <td>social</td>\n",
       "    </tr>\n",
       "    <tr>\n",
       "      <th>7568</th>\n",
       "      <td>6649b621033ae95a2e9da0dd9c99fa48</td>\n",
       "      <td>2018-05-31</td>\n",
       "      <td>320669df6e03fc8a691a1a4c61c56a32</td>\n",
       "      <td>unknown</td>\n",
       "    </tr>\n",
       "    <tr>\n",
       "      <th>1900</th>\n",
       "      <td>9012a1c75d959d58edd3a3fc1c0f5b75</td>\n",
       "      <td>2018-05-31</td>\n",
       "      <td>58326e62183c14b0c03085c33b9fdc44</td>\n",
       "      <td>social</td>\n",
       "    </tr>\n",
       "    <tr>\n",
       "      <th>3280</th>\n",
       "      <td>60041d31882e8d08e106b82dd4197a76</td>\n",
       "      <td>2018-05-31</td>\n",
       "      <td>ce1a65abd0973638f1c887a6efcfa82d</td>\n",
       "      <td>organic_search</td>\n",
       "    </tr>\n",
       "    <tr>\n",
       "      <th>4866</th>\n",
       "      <td>5572975b6c55e23bb68391acaa8ca141</td>\n",
       "      <td>2018-05-31</td>\n",
       "      <td>b76ef37428e6799c421989521c0e5077</td>\n",
       "      <td>unknown</td>\n",
       "    </tr>\n",
       "  </tbody>\n",
       "</table>\n",
       "<p>8000 rows × 4 columns</p>\n",
       "</div>"
      ],
      "text/plain": [
       "                                mql_id first_contact_date  \\\n",
       "1973  0b99dab71519032b917dc641cdd7ac5b         2017-06-14   \n",
       "5232  6dd0ef38856fd5fb21aed5223aea9e66         2017-06-14   \n",
       "5358  70bd89abdbdba90e471cd3d0bbdbac49         2017-06-16   \n",
       "2676  98c9832865e4ab224a1649e8e6e9a2a0         2017-06-20   \n",
       "2976  e1e32379b464961f67fba6ddf6d4b3b7         2017-07-02   \n",
       "...                                ...                ...   \n",
       "7570  10bd89509a170e478e62697df43a5984         2018-05-31   \n",
       "7568  6649b621033ae95a2e9da0dd9c99fa48         2018-05-31   \n",
       "1900  9012a1c75d959d58edd3a3fc1c0f5b75         2018-05-31   \n",
       "3280  60041d31882e8d08e106b82dd4197a76         2018-05-31   \n",
       "4866  5572975b6c55e23bb68391acaa8ca141         2018-05-31   \n",
       "\n",
       "                       landing_page_id          origin  \n",
       "1973  d41d8cd98f00b204e9800998ecf8427e             NaN  \n",
       "5232  8f08d2ef8b9aec2ec5118fbcf7f96f11         display  \n",
       "5358  8f08d2ef8b9aec2ec5118fbcf7f96f11         unknown  \n",
       "2676  b6cd08ac77c501fd6857f7916d2c24f3           email  \n",
       "2976  0b37d43dbde6452cdd94c17bf61a88e4  direct_traffic  \n",
       "...                                ...             ...  \n",
       "7570  58326e62183c14b0c03085c33b9fdc44          social  \n",
       "7568  320669df6e03fc8a691a1a4c61c56a32         unknown  \n",
       "1900  58326e62183c14b0c03085c33b9fdc44          social  \n",
       "3280  ce1a65abd0973638f1c887a6efcfa82d  organic_search  \n",
       "4866  b76ef37428e6799c421989521c0e5077         unknown  \n",
       "\n",
       "[8000 rows x 4 columns]"
      ]
     },
     "execution_count": 71,
     "metadata": {},
     "output_type": "execute_result"
    }
   ],
   "source": [
    "mql = mql.sort_values('first_contact_date')\n",
    "mql"
   ]
  },
  {
   "cell_type": "code",
   "execution_count": 72,
   "id": "25843495-875b-4f87-955a-3603d220732f",
   "metadata": {},
   "outputs": [],
   "source": [
    "mql = mql.reset_index()"
   ]
  },
  {
   "cell_type": "code",
   "execution_count": 73,
   "id": "97c764fb-04de-413e-9b6f-ad6727c7b7a0",
   "metadata": {},
   "outputs": [],
   "source": [
    "del mql['index']"
   ]
  },
  {
   "cell_type": "code",
   "execution_count": 74,
   "id": "e7eab8aa-8edf-4fdb-996d-2d7e62784c99",
   "metadata": {
    "scrolled": true,
    "tags": []
   },
   "outputs": [
    {
     "data": {
      "text/html": [
       "<div>\n",
       "<style scoped>\n",
       "    .dataframe tbody tr th:only-of-type {\n",
       "        vertical-align: middle;\n",
       "    }\n",
       "\n",
       "    .dataframe tbody tr th {\n",
       "        vertical-align: top;\n",
       "    }\n",
       "\n",
       "    .dataframe thead th {\n",
       "        text-align: right;\n",
       "    }\n",
       "</style>\n",
       "<table border=\"1\" class=\"dataframe\">\n",
       "  <thead>\n",
       "    <tr style=\"text-align: right;\">\n",
       "      <th></th>\n",
       "      <th>mql_id</th>\n",
       "      <th>first_contact_date</th>\n",
       "      <th>landing_page_id</th>\n",
       "      <th>origin</th>\n",
       "    </tr>\n",
       "  </thead>\n",
       "  <tbody>\n",
       "    <tr>\n",
       "      <th>0</th>\n",
       "      <td>0b99dab71519032b917dc641cdd7ac5b</td>\n",
       "      <td>2017-06-14</td>\n",
       "      <td>d41d8cd98f00b204e9800998ecf8427e</td>\n",
       "      <td>NaN</td>\n",
       "    </tr>\n",
       "    <tr>\n",
       "      <th>1</th>\n",
       "      <td>6dd0ef38856fd5fb21aed5223aea9e66</td>\n",
       "      <td>2017-06-14</td>\n",
       "      <td>8f08d2ef8b9aec2ec5118fbcf7f96f11</td>\n",
       "      <td>display</td>\n",
       "    </tr>\n",
       "    <tr>\n",
       "      <th>2</th>\n",
       "      <td>70bd89abdbdba90e471cd3d0bbdbac49</td>\n",
       "      <td>2017-06-16</td>\n",
       "      <td>8f08d2ef8b9aec2ec5118fbcf7f96f11</td>\n",
       "      <td>unknown</td>\n",
       "    </tr>\n",
       "    <tr>\n",
       "      <th>3</th>\n",
       "      <td>98c9832865e4ab224a1649e8e6e9a2a0</td>\n",
       "      <td>2017-06-20</td>\n",
       "      <td>b6cd08ac77c501fd6857f7916d2c24f3</td>\n",
       "      <td>email</td>\n",
       "    </tr>\n",
       "    <tr>\n",
       "      <th>4</th>\n",
       "      <td>e1e32379b464961f67fba6ddf6d4b3b7</td>\n",
       "      <td>2017-07-02</td>\n",
       "      <td>0b37d43dbde6452cdd94c17bf61a88e4</td>\n",
       "      <td>direct_traffic</td>\n",
       "    </tr>\n",
       "    <tr>\n",
       "      <th>...</th>\n",
       "      <td>...</td>\n",
       "      <td>...</td>\n",
       "      <td>...</td>\n",
       "      <td>...</td>\n",
       "    </tr>\n",
       "    <tr>\n",
       "      <th>7995</th>\n",
       "      <td>10bd89509a170e478e62697df43a5984</td>\n",
       "      <td>2018-05-31</td>\n",
       "      <td>58326e62183c14b0c03085c33b9fdc44</td>\n",
       "      <td>social</td>\n",
       "    </tr>\n",
       "    <tr>\n",
       "      <th>7996</th>\n",
       "      <td>6649b621033ae95a2e9da0dd9c99fa48</td>\n",
       "      <td>2018-05-31</td>\n",
       "      <td>320669df6e03fc8a691a1a4c61c56a32</td>\n",
       "      <td>unknown</td>\n",
       "    </tr>\n",
       "    <tr>\n",
       "      <th>7997</th>\n",
       "      <td>9012a1c75d959d58edd3a3fc1c0f5b75</td>\n",
       "      <td>2018-05-31</td>\n",
       "      <td>58326e62183c14b0c03085c33b9fdc44</td>\n",
       "      <td>social</td>\n",
       "    </tr>\n",
       "    <tr>\n",
       "      <th>7998</th>\n",
       "      <td>60041d31882e8d08e106b82dd4197a76</td>\n",
       "      <td>2018-05-31</td>\n",
       "      <td>ce1a65abd0973638f1c887a6efcfa82d</td>\n",
       "      <td>organic_search</td>\n",
       "    </tr>\n",
       "    <tr>\n",
       "      <th>7999</th>\n",
       "      <td>5572975b6c55e23bb68391acaa8ca141</td>\n",
       "      <td>2018-05-31</td>\n",
       "      <td>b76ef37428e6799c421989521c0e5077</td>\n",
       "      <td>unknown</td>\n",
       "    </tr>\n",
       "  </tbody>\n",
       "</table>\n",
       "<p>8000 rows × 4 columns</p>\n",
       "</div>"
      ],
      "text/plain": [
       "                                mql_id first_contact_date  \\\n",
       "0     0b99dab71519032b917dc641cdd7ac5b         2017-06-14   \n",
       "1     6dd0ef38856fd5fb21aed5223aea9e66         2017-06-14   \n",
       "2     70bd89abdbdba90e471cd3d0bbdbac49         2017-06-16   \n",
       "3     98c9832865e4ab224a1649e8e6e9a2a0         2017-06-20   \n",
       "4     e1e32379b464961f67fba6ddf6d4b3b7         2017-07-02   \n",
       "...                                ...                ...   \n",
       "7995  10bd89509a170e478e62697df43a5984         2018-05-31   \n",
       "7996  6649b621033ae95a2e9da0dd9c99fa48         2018-05-31   \n",
       "7997  9012a1c75d959d58edd3a3fc1c0f5b75         2018-05-31   \n",
       "7998  60041d31882e8d08e106b82dd4197a76         2018-05-31   \n",
       "7999  5572975b6c55e23bb68391acaa8ca141         2018-05-31   \n",
       "\n",
       "                       landing_page_id          origin  \n",
       "0     d41d8cd98f00b204e9800998ecf8427e             NaN  \n",
       "1     8f08d2ef8b9aec2ec5118fbcf7f96f11         display  \n",
       "2     8f08d2ef8b9aec2ec5118fbcf7f96f11         unknown  \n",
       "3     b6cd08ac77c501fd6857f7916d2c24f3           email  \n",
       "4     0b37d43dbde6452cdd94c17bf61a88e4  direct_traffic  \n",
       "...                                ...             ...  \n",
       "7995  58326e62183c14b0c03085c33b9fdc44          social  \n",
       "7996  320669df6e03fc8a691a1a4c61c56a32         unknown  \n",
       "7997  58326e62183c14b0c03085c33b9fdc44          social  \n",
       "7998  ce1a65abd0973638f1c887a6efcfa82d  organic_search  \n",
       "7999  b76ef37428e6799c421989521c0e5077         unknown  \n",
       "\n",
       "[8000 rows x 4 columns]"
      ]
     },
     "execution_count": 74,
     "metadata": {},
     "output_type": "execute_result"
    }
   ],
   "source": [
    "mql"
   ]
  },
  {
   "cell_type": "markdown",
   "id": "1f57978c-2531-4fa0-a139-dbf4cff9a8bf",
   "metadata": {},
   "source": [
    "# 6.MQL\n",
    "## (1)살펴보기 - 상위 랜딩페이지"
   ]
  },
  {
   "cell_type": "code",
   "execution_count": 75,
   "id": "bd5de989-233b-4eb5-8831-f4bf1cf885d1",
   "metadata": {},
   "outputs": [
    {
     "data": {
      "text/plain": [
       "b76ef37428e6799c421989521c0e5077    912\n",
       "22c29808c4f815213303f8933030604c    883\n",
       "58326e62183c14b0c03085c33b9fdc44    495\n",
       "88740e65d5d6b056e0cda098e1ea6313    445\n",
       "ce1a65abd0973638f1c887a6efcfa82d    394\n",
       "40dec9f3d5259a3d2dbcdab2114fae47    330\n",
       "f017be4dbf86243af5c1ebed0cff36a2    310\n",
       "e492ee5eaf1697716985cc6f33f9cd9b    291\n",
       "a7982125ff7aa3b2054c6e44f9d28522    156\n",
       "73f31a40697cc90a86c1273563ac230e    115\n",
       "Name: landing_page_id, dtype: int64"
      ]
     },
     "execution_count": 75,
     "metadata": {},
     "output_type": "execute_result"
    }
   ],
   "source": [
    "mql['landing_page_id'].value_counts().head(10)"
   ]
  },
  {
   "cell_type": "markdown",
   "id": "feac4309-f71a-4e87-ac25-a5abeeeb6e94",
   "metadata": {},
   "source": [
    "## (1)살펴보기 - 유입경로"
   ]
  },
  {
   "cell_type": "code",
   "execution_count": 76,
   "id": "af53f27d-bd8f-41de-9de4-4afa04698bef",
   "metadata": {},
   "outputs": [
    {
     "data": {
      "text/plain": [
       "organic_search       2296\n",
       "paid_search          1586\n",
       "social               1350\n",
       "unknown              1099\n",
       "direct_traffic        499\n",
       "email                 493\n",
       "referral              284\n",
       "other                 150\n",
       "display               118\n",
       "other_publicities      65\n",
       "Name: origin, dtype: int64"
      ]
     },
     "execution_count": 76,
     "metadata": {},
     "output_type": "execute_result"
    }
   ],
   "source": [
    "mql['origin'].value_counts()"
   ]
  },
  {
   "cell_type": "code",
   "execution_count": 77,
   "id": "17bf01d2-91e3-4a8e-b46d-e449681539b4",
   "metadata": {},
   "outputs": [
    {
     "data": {
      "text/plain": [
       "7940"
      ]
     },
     "execution_count": 77,
     "metadata": {},
     "output_type": "execute_result"
    }
   ],
   "source": [
    "mql['origin'].value_counts().sum()"
   ]
  },
  {
   "cell_type": "markdown",
   "id": "6527b4c8-f7a9-499f-b6ae-df48cabf624a",
   "metadata": {},
   "source": [
    "<strong> 나머지 60개는 nan -> 랜딩페이지가 전부 존재하기 때문에 기존에 있는 unknown으로 바꾸자</strong>\n",
    "## (2)데이터 정리 - 결측치"
   ]
  },
  {
   "cell_type": "code",
   "execution_count": 78,
   "id": "02bf2850-2b18-4c4f-b38e-c466145b62fa",
   "metadata": {},
   "outputs": [
    {
     "data": {
      "text/html": [
       "<div>\n",
       "<style scoped>\n",
       "    .dataframe tbody tr th:only-of-type {\n",
       "        vertical-align: middle;\n",
       "    }\n",
       "\n",
       "    .dataframe tbody tr th {\n",
       "        vertical-align: top;\n",
       "    }\n",
       "\n",
       "    .dataframe thead th {\n",
       "        text-align: right;\n",
       "    }\n",
       "</style>\n",
       "<table border=\"1\" class=\"dataframe\">\n",
       "  <thead>\n",
       "    <tr style=\"text-align: right;\">\n",
       "      <th></th>\n",
       "      <th>mql_id</th>\n",
       "      <th>first_contact_date</th>\n",
       "      <th>landing_page_id</th>\n",
       "      <th>origin</th>\n",
       "    </tr>\n",
       "  </thead>\n",
       "  <tbody>\n",
       "    <tr>\n",
       "      <th>0</th>\n",
       "      <td>0b99dab71519032b917dc641cdd7ac5b</td>\n",
       "      <td>2017-06-14</td>\n",
       "      <td>d41d8cd98f00b204e9800998ecf8427e</td>\n",
       "      <td>NaN</td>\n",
       "    </tr>\n",
       "    <tr>\n",
       "      <th>30</th>\n",
       "      <td>0138fa79ed7cc7113e031e4ac11bd26a</td>\n",
       "      <td>2017-07-07</td>\n",
       "      <td>22c29808c4f815213303f8933030604c</td>\n",
       "      <td>NaN</td>\n",
       "    </tr>\n",
       "  </tbody>\n",
       "</table>\n",
       "</div>"
      ],
      "text/plain": [
       "                              mql_id first_contact_date  \\\n",
       "0   0b99dab71519032b917dc641cdd7ac5b         2017-06-14   \n",
       "30  0138fa79ed7cc7113e031e4ac11bd26a         2017-07-07   \n",
       "\n",
       "                     landing_page_id origin  \n",
       "0   d41d8cd98f00b204e9800998ecf8427e    NaN  \n",
       "30  22c29808c4f815213303f8933030604c    NaN  "
      ]
     },
     "execution_count": 78,
     "metadata": {},
     "output_type": "execute_result"
    }
   ],
   "source": [
    "mql[mql['origin'].isnull()].head(2)"
   ]
  },
  {
   "cell_type": "code",
   "execution_count": 79,
   "id": "733c26e8-df10-4fc7-b37f-ef312edda3c7",
   "metadata": {},
   "outputs": [],
   "source": [
    "# nan값 direact로 변환\n",
    "mql['origin'] = mql['origin'].fillna('unknown')"
   ]
  },
  {
   "cell_type": "code",
   "execution_count": 80,
   "id": "f4f8923a-867c-4f84-9345-852386c264bd",
   "metadata": {},
   "outputs": [
    {
     "data": {
      "text/plain": [
       "organic_search       2296\n",
       "paid_search          1586\n",
       "social               1350\n",
       "unknown              1159\n",
       "direct_traffic        499\n",
       "email                 493\n",
       "referral              284\n",
       "other                 150\n",
       "display               118\n",
       "other_publicities      65\n",
       "Name: origin, dtype: int64"
      ]
     },
     "execution_count": 80,
     "metadata": {},
     "output_type": "execute_result"
    }
   ],
   "source": [
    "mql['origin'].value_counts()"
   ]
  },
  {
   "cell_type": "markdown",
   "id": "2dbbaf5e-9d37-4b86-a1aa-e3b1b7337ee1",
   "metadata": {},
   "source": [
    "## (2) 데이터정리 - 파생변수\n",
    "### 파생변수 : 유입에서 non_paid과 paid로 나누자 \n",
    "\n",
    "- non_paid : organic_search, direct_traffic\n",
    "- paid : paid_search, social, email, referral, other, display, other_publicities\n",
    "- unknown : unknown"
   ]
  },
  {
   "cell_type": "code",
   "execution_count": 81,
   "id": "6146a30c-a120-4900-aaa4-b02b9d21d5a2",
   "metadata": {},
   "outputs": [],
   "source": [
    "def paid_decision(value):\n",
    "#non_paid\n",
    "    if value == 'organic_search':\n",
    "        return 'non_paid'\n",
    "    elif value == 'direct_traffic':\n",
    "        return 'non_paid'\n",
    "#paid    \n",
    "    elif value in 'paid_search':\n",
    "        return 'paid'           \n",
    "    elif value in 'social':\n",
    "        return 'paid'              \n",
    "    elif value in 'email':\n",
    "        return 'paid'           \n",
    "    elif value in 'referral':\n",
    "        return 'paid'\n",
    "    elif value in 'other':\n",
    "        return 'paid'\n",
    "    elif value in 'display':\n",
    "        return 'paid'\n",
    "    elif value in 'other_publicities':\n",
    "        return 'paid'\n",
    "# unknown\n",
    "    else:\n",
    "        return'unknown'"
   ]
  },
  {
   "cell_type": "code",
   "execution_count": 82,
   "id": "135af963-c222-4047-a463-c0e99c63084e",
   "metadata": {},
   "outputs": [],
   "source": [
    "mql['isPaid'] = mql.apply(lambda x: paid_decision(x['origin']),axis=1)"
   ]
  },
  {
   "cell_type": "code",
   "execution_count": 83,
   "id": "9e737c6f-c733-4494-97cd-b381e2981a6e",
   "metadata": {},
   "outputs": [
    {
     "data": {
      "text/html": [
       "<div>\n",
       "<style scoped>\n",
       "    .dataframe tbody tr th:only-of-type {\n",
       "        vertical-align: middle;\n",
       "    }\n",
       "\n",
       "    .dataframe tbody tr th {\n",
       "        vertical-align: top;\n",
       "    }\n",
       "\n",
       "    .dataframe thead th {\n",
       "        text-align: right;\n",
       "    }\n",
       "</style>\n",
       "<table border=\"1\" class=\"dataframe\">\n",
       "  <thead>\n",
       "    <tr style=\"text-align: right;\">\n",
       "      <th></th>\n",
       "      <th>mql_id</th>\n",
       "      <th>first_contact_date</th>\n",
       "      <th>landing_page_id</th>\n",
       "      <th>origin</th>\n",
       "      <th>isPaid</th>\n",
       "    </tr>\n",
       "  </thead>\n",
       "  <tbody>\n",
       "    <tr>\n",
       "      <th>0</th>\n",
       "      <td>0b99dab71519032b917dc641cdd7ac5b</td>\n",
       "      <td>2017-06-14</td>\n",
       "      <td>d41d8cd98f00b204e9800998ecf8427e</td>\n",
       "      <td>unknown</td>\n",
       "      <td>unknown</td>\n",
       "    </tr>\n",
       "    <tr>\n",
       "      <th>1</th>\n",
       "      <td>6dd0ef38856fd5fb21aed5223aea9e66</td>\n",
       "      <td>2017-06-14</td>\n",
       "      <td>8f08d2ef8b9aec2ec5118fbcf7f96f11</td>\n",
       "      <td>display</td>\n",
       "      <td>paid</td>\n",
       "    </tr>\n",
       "  </tbody>\n",
       "</table>\n",
       "</div>"
      ],
      "text/plain": [
       "                             mql_id first_contact_date  \\\n",
       "0  0b99dab71519032b917dc641cdd7ac5b         2017-06-14   \n",
       "1  6dd0ef38856fd5fb21aed5223aea9e66         2017-06-14   \n",
       "\n",
       "                    landing_page_id   origin   isPaid  \n",
       "0  d41d8cd98f00b204e9800998ecf8427e  unknown  unknown  \n",
       "1  8f08d2ef8b9aec2ec5118fbcf7f96f11  display     paid  "
      ]
     },
     "execution_count": 83,
     "metadata": {},
     "output_type": "execute_result"
    }
   ],
   "source": [
    "mql.head(2)"
   ]
  },
  {
   "cell_type": "markdown",
   "id": "8758d2a7-9a30-4374-b356-cefe302c81a5",
   "metadata": {},
   "source": [
    "## (2)데이터정리 - 컬럼명\n",
    "### 컬럼이름 바꾸기 organic ->channel로"
   ]
  },
  {
   "cell_type": "code",
   "execution_count": 84,
   "id": "312bdd05-c903-4bae-8dd3-4940aaa04224",
   "metadata": {},
   "outputs": [],
   "source": [
    "mql.columns = ['mql_id', 'first_contact_date', 'landing_page_id', 'channel', 'isPaid']"
   ]
  },
  {
   "cell_type": "code",
   "execution_count": 85,
   "id": "7479d2d1-761e-4fd1-8469-7ac42fd48e9c",
   "metadata": {},
   "outputs": [
    {
     "data": {
      "text/html": [
       "<div>\n",
       "<style scoped>\n",
       "    .dataframe tbody tr th:only-of-type {\n",
       "        vertical-align: middle;\n",
       "    }\n",
       "\n",
       "    .dataframe tbody tr th {\n",
       "        vertical-align: top;\n",
       "    }\n",
       "\n",
       "    .dataframe thead th {\n",
       "        text-align: right;\n",
       "    }\n",
       "</style>\n",
       "<table border=\"1\" class=\"dataframe\">\n",
       "  <thead>\n",
       "    <tr style=\"text-align: right;\">\n",
       "      <th></th>\n",
       "      <th>mql_id</th>\n",
       "      <th>first_contact_date</th>\n",
       "      <th>landing_page_id</th>\n",
       "      <th>channel</th>\n",
       "      <th>isPaid</th>\n",
       "    </tr>\n",
       "  </thead>\n",
       "  <tbody>\n",
       "    <tr>\n",
       "      <th>0</th>\n",
       "      <td>0b99dab71519032b917dc641cdd7ac5b</td>\n",
       "      <td>2017-06-14</td>\n",
       "      <td>d41d8cd98f00b204e9800998ecf8427e</td>\n",
       "      <td>unknown</td>\n",
       "      <td>unknown</td>\n",
       "    </tr>\n",
       "    <tr>\n",
       "      <th>1</th>\n",
       "      <td>6dd0ef38856fd5fb21aed5223aea9e66</td>\n",
       "      <td>2017-06-14</td>\n",
       "      <td>8f08d2ef8b9aec2ec5118fbcf7f96f11</td>\n",
       "      <td>display</td>\n",
       "      <td>paid</td>\n",
       "    </tr>\n",
       "  </tbody>\n",
       "</table>\n",
       "</div>"
      ],
      "text/plain": [
       "                             mql_id first_contact_date  \\\n",
       "0  0b99dab71519032b917dc641cdd7ac5b         2017-06-14   \n",
       "1  6dd0ef38856fd5fb21aed5223aea9e66         2017-06-14   \n",
       "\n",
       "                    landing_page_id  channel   isPaid  \n",
       "0  d41d8cd98f00b204e9800998ecf8427e  unknown  unknown  \n",
       "1  8f08d2ef8b9aec2ec5118fbcf7f96f11  display     paid  "
      ]
     },
     "execution_count": 85,
     "metadata": {},
     "output_type": "execute_result"
    }
   ],
   "source": [
    "mql.head(2)"
   ]
  },
  {
   "cell_type": "markdown",
   "id": "ebd36b0d-54ad-427a-b172-f71e753e335f",
   "metadata": {},
   "source": [
    "## (3) 광고유입 여부 따른 차이 비교\n"
   ]
  },
  {
   "cell_type": "code",
   "execution_count": 86,
   "id": "bb668add-d10a-4cc2-93b2-44aaac6988fa",
   "metadata": {},
   "outputs": [
    {
     "data": {
      "text/plain": [
       "paid        4046\n",
       "non_paid    2795\n",
       "unknown     1159\n",
       "Name: isPaid, dtype: int64"
      ]
     },
     "execution_count": 86,
     "metadata": {},
     "output_type": "execute_result"
    }
   ],
   "source": [
    "mql['isPaid'].value_counts()"
   ]
  },
  {
   "cell_type": "code",
   "execution_count": 87,
   "id": "6645216d-da7e-465d-9518-682770b423ad",
   "metadata": {},
   "outputs": [
    {
     "data": {
      "text/html": [
       "<div>\n",
       "<style scoped>\n",
       "    .dataframe tbody tr th:only-of-type {\n",
       "        vertical-align: middle;\n",
       "    }\n",
       "\n",
       "    .dataframe tbody tr th {\n",
       "        vertical-align: top;\n",
       "    }\n",
       "\n",
       "    .dataframe thead th {\n",
       "        text-align: right;\n",
       "    }\n",
       "</style>\n",
       "<table border=\"1\" class=\"dataframe\">\n",
       "  <thead>\n",
       "    <tr style=\"text-align: right;\">\n",
       "      <th></th>\n",
       "      <th>isPaid</th>\n",
       "      <th>cnt</th>\n",
       "    </tr>\n",
       "  </thead>\n",
       "  <tbody>\n",
       "    <tr>\n",
       "      <th>0</th>\n",
       "      <td>paid</td>\n",
       "      <td>4046</td>\n",
       "    </tr>\n",
       "    <tr>\n",
       "      <th>1</th>\n",
       "      <td>non_paid</td>\n",
       "      <td>2795</td>\n",
       "    </tr>\n",
       "    <tr>\n",
       "      <th>2</th>\n",
       "      <td>unknown</td>\n",
       "      <td>1159</td>\n",
       "    </tr>\n",
       "  </tbody>\n",
       "</table>\n",
       "</div>"
      ],
      "text/plain": [
       "     isPaid   cnt\n",
       "0      paid  4046\n",
       "1  non_paid  2795\n",
       "2   unknown  1159"
      ]
     },
     "execution_count": 87,
     "metadata": {},
     "output_type": "execute_result"
    }
   ],
   "source": [
    "mql_paid = mql['isPaid'].value_counts().to_frame()\n",
    "mql_paid = mql_paid.reset_index()\n",
    "mql_paid.columns = ['isPaid', 'cnt']\n",
    "mql_paid"
   ]
  },
  {
   "cell_type": "code",
   "execution_count": 88,
   "id": "48d7598c-4efe-420e-a393-3caea32cbd01",
   "metadata": {},
   "outputs": [
    {
     "data": {
      "image/png": "[encoded data removed]",
      "text/plain": [
       "<Figure size 864x576 with 1 Axes>"
      ]
     },
     "metadata": {
      "needs_background": "light"
     },
     "output_type": "display_data"
    }
   ],
   "source": [
    "plt.figure (figsize = (12,8))\n",
    "ax = sns.barplot(data = mql_paid, x = 'isPaid', y = 'cnt' ,ci = None)\n",
    "plt.title('광고유무에 따른 유입')\n",
    "for p in ax.patches:\n",
    "    height = p.get_height()\n",
    "    ax.text(p.get_x() + p.get_width() / 2., height + 3, height, ha = 'center', size = 13)\n",
    "\n",
    "plt.show()"
   ]
  },
  {
   "cell_type": "code",
   "execution_count": 161,
   "id": "55b9fcad-5a2a-43f2-b750-fa7f281712ef",
   "metadata": {},
   "outputs": [
    {
     "data": {
      "image/png": "[encoded data removed]",
      "text/plain": [
       "<Figure size 864x576 with 1 Axes>"
      ]
     },
     "metadata": {},
     "output_type": "display_data"
    }
   ],
   "source": [
    "plt.figure (figsize = (12,8), facecolor = 'white')\n",
    "mql['isPaid'].value_counts().plot.pie(autopct='%.2f%%')\n",
    "plt.title('광고유무에 따른 유입')\n",
    "plt.show()"
   ]
  },
  {
   "cell_type": "markdown",
   "id": "24ce55a2-04b8-4987-b82b-9217150be1be",
   "metadata": {},
   "source": [
    "### channel에 따른 유입 비교"
   ]
  },
  {
   "cell_type": "code",
   "execution_count": 90,
   "id": "3ed2b816-1edc-4626-b390-ebcaf8ce93fb",
   "metadata": {},
   "outputs": [
    {
     "data": {
      "text/html": [
       "<div>\n",
       "<style scoped>\n",
       "    .dataframe tbody tr th:only-of-type {\n",
       "        vertical-align: middle;\n",
       "    }\n",
       "\n",
       "    .dataframe tbody tr th {\n",
       "        vertical-align: top;\n",
       "    }\n",
       "\n",
       "    .dataframe thead th {\n",
       "        text-align: right;\n",
       "    }\n",
       "</style>\n",
       "<table border=\"1\" class=\"dataframe\">\n",
       "  <thead>\n",
       "    <tr style=\"text-align: right;\">\n",
       "      <th></th>\n",
       "      <th>channel</th>\n",
       "      <th>cnt</th>\n",
       "    </tr>\n",
       "  </thead>\n",
       "  <tbody>\n",
       "    <tr>\n",
       "      <th>0</th>\n",
       "      <td>organic_search</td>\n",
       "      <td>2296</td>\n",
       "    </tr>\n",
       "    <tr>\n",
       "      <th>1</th>\n",
       "      <td>paid_search</td>\n",
       "      <td>1586</td>\n",
       "    </tr>\n",
       "    <tr>\n",
       "      <th>2</th>\n",
       "      <td>social</td>\n",
       "      <td>1350</td>\n",
       "    </tr>\n",
       "    <tr>\n",
       "      <th>3</th>\n",
       "      <td>unknown</td>\n",
       "      <td>1159</td>\n",
       "    </tr>\n",
       "    <tr>\n",
       "      <th>4</th>\n",
       "      <td>direct_traffic</td>\n",
       "      <td>499</td>\n",
       "    </tr>\n",
       "    <tr>\n",
       "      <th>5</th>\n",
       "      <td>email</td>\n",
       "      <td>493</td>\n",
       "    </tr>\n",
       "    <tr>\n",
       "      <th>6</th>\n",
       "      <td>referral</td>\n",
       "      <td>284</td>\n",
       "    </tr>\n",
       "    <tr>\n",
       "      <th>7</th>\n",
       "      <td>other</td>\n",
       "      <td>150</td>\n",
       "    </tr>\n",
       "    <tr>\n",
       "      <th>8</th>\n",
       "      <td>display</td>\n",
       "      <td>118</td>\n",
       "    </tr>\n",
       "    <tr>\n",
       "      <th>9</th>\n",
       "      <td>other_publicities</td>\n",
       "      <td>65</td>\n",
       "    </tr>\n",
       "  </tbody>\n",
       "</table>\n",
       "</div>"
      ],
      "text/plain": [
       "             channel   cnt\n",
       "0     organic_search  2296\n",
       "1        paid_search  1586\n",
       "2             social  1350\n",
       "3            unknown  1159\n",
       "4     direct_traffic   499\n",
       "5              email   493\n",
       "6           referral   284\n",
       "7              other   150\n",
       "8            display   118\n",
       "9  other_publicities    65"
      ]
     },
     "execution_count": 90,
     "metadata": {},
     "output_type": "execute_result"
    }
   ],
   "source": [
    "mql_channel = mql['channel'].value_counts().to_frame()\n",
    "mql_channel = mql_channel.reset_index()\n",
    "mql_channel.columns = ['channel', 'cnt']\n",
    "mql_channel"
   ]
  },
  {
   "cell_type": "code",
   "execution_count": 162,
   "id": "1af96a61-d714-42c2-a780-7dc7ce9128f1",
   "metadata": {},
   "outputs": [
    {
     "data": {
      "image/png": "[encoded data removed]",
      "text/plain": [
       "<Figure size 864x576 with 1 Axes>"
      ]
     },
     "metadata": {
      "needs_background": "light"
     },
     "output_type": "display_data"
    }
   ],
   "source": [
    "plt.figure (figsize = (12,8))\n",
    "ax = sns.barplot(data = mql_channel, x = 'channel', y = 'cnt' ,ci = None)\n",
    "plt.title('유입채널')\n",
    "for p in ax.patches:\n",
    "    height = p.get_height()\n",
    "    ax.text(p.get_x() + p.get_width() / 2., height + 3, height, ha = 'center', size = 13)\n",
    "\n",
    "plt.show()"
   ]
  },
  {
   "cell_type": "code",
   "execution_count": 163,
   "id": "1ae25675-b69c-4104-ad76-4276d8e535dd",
   "metadata": {},
   "outputs": [
    {
     "data": {
      "image/png": "[encoded data removed]",
      "text/plain": [
       "<Figure size 864x576 with 1 Axes>"
      ]
     },
     "metadata": {},
     "output_type": "display_data"
    }
   ],
   "source": [
    "plt.figure (figsize = (12,8), facecolor = 'white')\n",
    "mql['channel'].value_counts().plot.pie(autopct='%.2f%%')\n",
    "plt.title('유입채널비교')\n",
    "plt.show()"
   ]
  },
  {
   "cell_type": "markdown",
   "id": "6ecce1bf-18db-4388-8ec6-cfb723a0927d",
   "metadata": {},
   "source": [
    "# 상위 랜딩페이지의 광고효과를 보자"
   ]
  },
  {
   "cell_type": "code",
   "execution_count": 93,
   "id": "95e5c1e7-ffff-4327-af7f-7ee51389b0c9",
   "metadata": {},
   "outputs": [
    {
     "data": {
      "text/html": [
       "<div>\n",
       "<style scoped>\n",
       "    .dataframe tbody tr th:only-of-type {\n",
       "        vertical-align: middle;\n",
       "    }\n",
       "\n",
       "    .dataframe tbody tr th {\n",
       "        vertical-align: top;\n",
       "    }\n",
       "\n",
       "    .dataframe thead th {\n",
       "        text-align: right;\n",
       "    }\n",
       "</style>\n",
       "<table border=\"1\" class=\"dataframe\">\n",
       "  <thead>\n",
       "    <tr style=\"text-align: right;\">\n",
       "      <th></th>\n",
       "      <th>mql_id</th>\n",
       "      <th>first_contact_date</th>\n",
       "      <th>landing_page_id</th>\n",
       "      <th>channel</th>\n",
       "      <th>isPaid</th>\n",
       "    </tr>\n",
       "  </thead>\n",
       "  <tbody>\n",
       "    <tr>\n",
       "      <th>0</th>\n",
       "      <td>0b99dab71519032b917dc641cdd7ac5b</td>\n",
       "      <td>2017-06-14</td>\n",
       "      <td>d41d8cd98f00b204e9800998ecf8427e</td>\n",
       "      <td>unknown</td>\n",
       "      <td>unknown</td>\n",
       "    </tr>\n",
       "    <tr>\n",
       "      <th>1</th>\n",
       "      <td>6dd0ef38856fd5fb21aed5223aea9e66</td>\n",
       "      <td>2017-06-14</td>\n",
       "      <td>8f08d2ef8b9aec2ec5118fbcf7f96f11</td>\n",
       "      <td>display</td>\n",
       "      <td>paid</td>\n",
       "    </tr>\n",
       "  </tbody>\n",
       "</table>\n",
       "</div>"
      ],
      "text/plain": [
       "                             mql_id first_contact_date  \\\n",
       "0  0b99dab71519032b917dc641cdd7ac5b         2017-06-14   \n",
       "1  6dd0ef38856fd5fb21aed5223aea9e66         2017-06-14   \n",
       "\n",
       "                    landing_page_id  channel   isPaid  \n",
       "0  d41d8cd98f00b204e9800998ecf8427e  unknown  unknown  \n",
       "1  8f08d2ef8b9aec2ec5118fbcf7f96f11  display     paid  "
      ]
     },
     "execution_count": 93,
     "metadata": {},
     "output_type": "execute_result"
    }
   ],
   "source": [
    "mql.head(2)"
   ]
  },
  {
   "cell_type": "code",
   "execution_count": 94,
   "id": "73fad8a7-cbf7-48a7-a346-b783ad558188",
   "metadata": {},
   "outputs": [
    {
     "data": {
      "text/plain": [
       "b76ef37428e6799c421989521c0e5077    912\n",
       "22c29808c4f815213303f8933030604c    883\n",
       "58326e62183c14b0c03085c33b9fdc44    495\n",
       "88740e65d5d6b056e0cda098e1ea6313    445\n",
       "ce1a65abd0973638f1c887a6efcfa82d    394\n",
       "Name: landing_page_id, dtype: int64"
      ]
     },
     "execution_count": 94,
     "metadata": {},
     "output_type": "execute_result"
    }
   ],
   "source": [
    "# 상위 랜딩 페이지 5개\n",
    "mql['landing_page_id'].value_counts().head()"
   ]
  },
  {
   "cell_type": "code",
   "execution_count": 95,
   "id": "3cc81804-ee50-40ae-83e9-21e1298b248a",
   "metadata": {},
   "outputs": [
    {
     "data": {
      "text/plain": [
       "495"
      ]
     },
     "execution_count": 95,
     "metadata": {},
     "output_type": "execute_result"
    }
   ],
   "source": [
    "len(mql['landing_page_id'].value_counts())"
   ]
  },
  {
   "cell_type": "code",
   "execution_count": 96,
   "id": "b66ed603-a34f-4f2f-8c09-17aafa31f819",
   "metadata": {},
   "outputs": [
    {
     "data": {
      "text/plain": [
       "3129"
      ]
     },
     "execution_count": 96,
     "metadata": {},
     "output_type": "execute_result"
    }
   ],
   "source": [
    "# 상위 랜딩 페이지 5개에서 랜딩한 숫자\n",
    "mql['landing_page_id'].value_counts().head().sum()"
   ]
  },
  {
   "cell_type": "markdown",
   "id": "7507fc0c-1445-409d-958f-16935a3c6ec7",
   "metadata": {},
   "source": [
    "### 총랜딩페이지 495개중 상위 5개의 랜딩페이지가 총랜딩인 8000개중 3129개를 랜딩함(상위 1%의 랜딩페이지가 39%의 랜딩을 담당함)"
   ]
  },
  {
   "cell_type": "code",
   "execution_count": 97,
   "id": "7b55ab22-d829-462c-84ce-c8bd7fd346c3",
   "metadata": {},
   "outputs": [
    {
     "data": {
      "text/plain": [
       "Index(['b76ef37428e6799c421989521c0e5077', '22c29808c4f815213303f8933030604c',\n",
       "       '58326e62183c14b0c03085c33b9fdc44', '88740e65d5d6b056e0cda098e1ea6313',\n",
       "       'ce1a65abd0973638f1c887a6efcfa82d'],\n",
       "      dtype='object')"
      ]
     },
     "execution_count": 97,
     "metadata": {},
     "output_type": "execute_result"
    }
   ],
   "source": [
    "mql['landing_page_id'].value_counts().head().keys()"
   ]
  },
  {
   "cell_type": "code",
   "execution_count": 98,
   "id": "769df127-5374-4dfd-a556-6b6df1c1cd08",
   "metadata": {
    "scrolled": true
   },
   "outputs": [
    {
     "name": "stdout",
     "output_type": "stream",
     "text": [
      "unknown     657\n",
      "non_paid    141\n",
      "paid        114\n",
      "Name: isPaid, dtype: int64\n",
      "non_paid    600\n",
      "paid        242\n",
      "unknown      41\n",
      "Name: isPaid, dtype: int64\n",
      "paid        474\n",
      "non_paid     14\n",
      "unknown       7\n",
      "Name: isPaid, dtype: int64\n",
      "paid        428\n",
      "non_paid     10\n",
      "unknown       7\n",
      "Name: isPaid, dtype: int64\n",
      "non_paid    278\n",
      "paid        102\n",
      "unknown      14\n",
      "Name: isPaid, dtype: int64\n"
     ]
    }
   ],
   "source": [
    "for i in mql['landing_page_id'].value_counts().head().keys():\n",
    "        landing_top5 = mql[mql['landing_page_id']== i]\n",
    "        print(landing_top5['isPaid'].value_counts())"
   ]
  },
  {
   "cell_type": "markdown",
   "id": "2a2ae6ba-b5a8-4c69-97b2-4f04d404fb5b",
   "metadata": {},
   "source": [
    "# 날짜별 차이\n",
    "## 상위 5일"
   ]
  },
  {
   "cell_type": "code",
   "execution_count": 99,
   "id": "b59a7315-58b3-44bc-8b31-e7e18cb5ec29",
   "metadata": {},
   "outputs": [
    {
     "data": {
      "text/plain": [
       "2018-05-02    93\n",
       "2018-05-15    76\n",
       "2018-01-22    75\n",
       "2018-02-06    71\n",
       "2018-03-26    70\n",
       "Name: first_contact_date, dtype: int64"
      ]
     },
     "execution_count": 99,
     "metadata": {},
     "output_type": "execute_result"
    }
   ],
   "source": [
    "mql['first_contact_date'].value_counts().head()"
   ]
  },
  {
   "cell_type": "code",
   "execution_count": 100,
   "id": "d3b330df-f228-4fc2-9068-930c055a01d6",
   "metadata": {},
   "outputs": [
    {
     "data": {
      "text/plain": [
       "336"
      ]
     },
     "execution_count": 100,
     "metadata": {},
     "output_type": "execute_result"
    }
   ],
   "source": [
    "len(mql['first_contact_date'].value_counts())"
   ]
  },
  {
   "cell_type": "code",
   "execution_count": 101,
   "id": "11b69d1b-7406-4b8e-a94e-e4b9db48419a",
   "metadata": {},
   "outputs": [
    {
     "data": {
      "text/plain": [
       "385"
      ]
     },
     "execution_count": 101,
     "metadata": {},
     "output_type": "execute_result"
    }
   ],
   "source": [
    "mql['first_contact_date'].value_counts().head().sum()"
   ]
  },
  {
   "cell_type": "code",
   "execution_count": 102,
   "id": "39a74648-9472-4ac4-91f3-b2a72be124a9",
   "metadata": {},
   "outputs": [
    {
     "data": {
      "text/plain": [
       "Index(['2018-05-02', '2018-05-15', '2018-01-22', '2018-02-06', '2018-03-26'], dtype='object')"
      ]
     },
     "execution_count": 102,
     "metadata": {},
     "output_type": "execute_result"
    }
   ],
   "source": [
    "mql['first_contact_date'].value_counts().head().keys()"
   ]
  },
  {
   "cell_type": "code",
   "execution_count": 103,
   "id": "f17cf884-43ae-4d77-ac2a-b73f6d148d70",
   "metadata": {},
   "outputs": [
    {
     "name": "stdout",
     "output_type": "stream",
     "text": [
      "paid        57\n",
      "non_paid    23\n",
      "unknown     13\n",
      "Name: isPaid, dtype: int64\n",
      "paid        41\n",
      "non_paid    18\n",
      "unknown     17\n",
      "Name: isPaid, dtype: int64\n",
      "paid        34\n",
      "non_paid    28\n",
      "unknown     13\n",
      "Name: isPaid, dtype: int64\n",
      "paid        37\n",
      "non_paid    24\n",
      "unknown     10\n",
      "Name: isPaid, dtype: int64\n",
      "paid        32\n",
      "non_paid    30\n",
      "unknown      8\n",
      "Name: isPaid, dtype: int64\n"
     ]
    }
   ],
   "source": [
    "for i in mql['first_contact_date'].value_counts().head().keys():\n",
    "        landing_top5 = mql[mql['first_contact_date']== i]\n",
    "        print(landing_top5['isPaid'].value_counts())"
   ]
  },
  {
   "cell_type": "code",
   "execution_count": null,
   "id": "03d750a0-0927-42ba-b611-fc1607a600b1",
   "metadata": {},
   "outputs": [],
   "source": []
  },
  {
   "cell_type": "markdown",
   "id": "363066f1-8efa-4981-99c1-9d572d1b171d",
   "metadata": {},
   "source": [
    "# df = Merge(mql + deals)"
   ]
  },
  {
   "cell_type": "code",
   "execution_count": 109,
   "id": "19531b7c-ba6d-40ba-87f9-d071027b0ee1",
   "metadata": {},
   "outputs": [
    {
     "data": {
      "text/plain": [
       "(8000, 18)"
      ]
     },
     "execution_count": 109,
     "metadata": {},
     "output_type": "execute_result"
    }
   ],
   "source": [
    "df = pd.merge(mql, closed_deals, left_on = 'mql_id',right_on = 'mql_id', how= 'outer')\n",
    "df.shape"
   ]
  },
  {
   "cell_type": "code",
   "execution_count": 110,
   "id": "04f069f4-3239-4a2a-97e7-bd62874b3e95",
   "metadata": {},
   "outputs": [
    {
     "data": {
      "text/html": [
       "<div>\n",
       "<style scoped>\n",
       "    .dataframe tbody tr th:only-of-type {\n",
       "        vertical-align: middle;\n",
       "    }\n",
       "\n",
       "    .dataframe tbody tr th {\n",
       "        vertical-align: top;\n",
       "    }\n",
       "\n",
       "    .dataframe thead th {\n",
       "        text-align: right;\n",
       "    }\n",
       "</style>\n",
       "<table border=\"1\" class=\"dataframe\">\n",
       "  <thead>\n",
       "    <tr style=\"text-align: right;\">\n",
       "      <th></th>\n",
       "      <th>mql_id</th>\n",
       "      <th>first_contact_date</th>\n",
       "      <th>landing_page_id</th>\n",
       "      <th>channel</th>\n",
       "      <th>isPaid</th>\n",
       "      <th>seller_id</th>\n",
       "      <th>sdr_id</th>\n",
       "      <th>sr_id</th>\n",
       "      <th>won_date</th>\n",
       "      <th>business_segment</th>\n",
       "      <th>lead_type</th>\n",
       "      <th>lead_behaviour_profile</th>\n",
       "      <th>has_company</th>\n",
       "      <th>has_gtin</th>\n",
       "      <th>average_stock</th>\n",
       "      <th>business_type</th>\n",
       "      <th>declared_product_catalog_size</th>\n",
       "      <th>declared_monthly_revenue</th>\n",
       "    </tr>\n",
       "  </thead>\n",
       "  <tbody>\n",
       "    <tr>\n",
       "      <th>0</th>\n",
       "      <td>0b99dab71519032b917dc641cdd7ac5b</td>\n",
       "      <td>2017-06-14</td>\n",
       "      <td>d41d8cd98f00b204e9800998ecf8427e</td>\n",
       "      <td>unknown</td>\n",
       "      <td>unknown</td>\n",
       "      <td>NaN</td>\n",
       "      <td>NaN</td>\n",
       "      <td>NaN</td>\n",
       "      <td>NaN</td>\n",
       "      <td>NaN</td>\n",
       "      <td>NaN</td>\n",
       "      <td>NaN</td>\n",
       "      <td>NaN</td>\n",
       "      <td>NaN</td>\n",
       "      <td>NaN</td>\n",
       "      <td>NaN</td>\n",
       "      <td>NaN</td>\n",
       "      <td>NaN</td>\n",
       "    </tr>\n",
       "    <tr>\n",
       "      <th>1</th>\n",
       "      <td>6dd0ef38856fd5fb21aed5223aea9e66</td>\n",
       "      <td>2017-06-14</td>\n",
       "      <td>8f08d2ef8b9aec2ec5118fbcf7f96f11</td>\n",
       "      <td>display</td>\n",
       "      <td>paid</td>\n",
       "      <td>NaN</td>\n",
       "      <td>NaN</td>\n",
       "      <td>NaN</td>\n",
       "      <td>NaN</td>\n",
       "      <td>NaN</td>\n",
       "      <td>NaN</td>\n",
       "      <td>NaN</td>\n",
       "      <td>NaN</td>\n",
       "      <td>NaN</td>\n",
       "      <td>NaN</td>\n",
       "      <td>NaN</td>\n",
       "      <td>NaN</td>\n",
       "      <td>NaN</td>\n",
       "    </tr>\n",
       "  </tbody>\n",
       "</table>\n",
       "</div>"
      ],
      "text/plain": [
       "                             mql_id first_contact_date  \\\n",
       "0  0b99dab71519032b917dc641cdd7ac5b         2017-06-14   \n",
       "1  6dd0ef38856fd5fb21aed5223aea9e66         2017-06-14   \n",
       "\n",
       "                    landing_page_id  channel   isPaid seller_id sdr_id sr_id  \\\n",
       "0  d41d8cd98f00b204e9800998ecf8427e  unknown  unknown       NaN    NaN   NaN   \n",
       "1  8f08d2ef8b9aec2ec5118fbcf7f96f11  display     paid       NaN    NaN   NaN   \n",
       "\n",
       "  won_date business_segment lead_type lead_behaviour_profile has_company  \\\n",
       "0      NaN              NaN       NaN                    NaN         NaN   \n",
       "1      NaN              NaN       NaN                    NaN         NaN   \n",
       "\n",
       "  has_gtin average_stock business_type  declared_product_catalog_size  \\\n",
       "0      NaN           NaN           NaN                            NaN   \n",
       "1      NaN           NaN           NaN                            NaN   \n",
       "\n",
       "   declared_monthly_revenue  \n",
       "0                       NaN  \n",
       "1                       NaN  "
      ]
     },
     "execution_count": 110,
     "metadata": {},
     "output_type": "execute_result"
    }
   ],
   "source": [
    "df.head(2)"
   ]
  },
  {
   "cell_type": "code",
   "execution_count": 111,
   "id": "9edb3cc2-5182-498a-a917-78ee32bdd6c1",
   "metadata": {},
   "outputs": [
    {
     "data": {
      "image/png": "[encoded data removed]",
      "text/plain": [
       "<Figure size 1080x720 with 2 Axes>"
      ]
     },
     "metadata": {
      "needs_background": "light"
     },
     "output_type": "display_data"
    }
   ],
   "source": [
    "plt.figure(figsize = (15,10))\n",
    "sns.heatmap(df.isnull(), cmap = 'gray')\n",
    "plt.show()"
   ]
  },
  {
   "cell_type": "code",
   "execution_count": 112,
   "id": "f3aaa612-36ab-4e54-8328-5162367e40fc",
   "metadata": {},
   "outputs": [
    {
     "name": "stdout",
     "output_type": "stream",
     "text": [
      "<class 'pandas.core.frame.DataFrame'>\n",
      "Int64Index: 8000 entries, 0 to 7999\n",
      "Data columns (total 18 columns):\n",
      " #   Column                         Non-Null Count  Dtype  \n",
      "---  ------                         --------------  -----  \n",
      " 0   mql_id                         8000 non-null   object \n",
      " 1   first_contact_date             8000 non-null   object \n",
      " 2   landing_page_id                8000 non-null   object \n",
      " 3   channel                        8000 non-null   object \n",
      " 4   isPaid                         8000 non-null   object \n",
      " 5   seller_id                      842 non-null    object \n",
      " 6   sdr_id                         842 non-null    object \n",
      " 7   sr_id                          842 non-null    object \n",
      " 8   won_date                       842 non-null    object \n",
      " 9   business_segment               841 non-null    object \n",
      " 10  lead_type                      836 non-null    object \n",
      " 11  lead_behaviour_profile         665 non-null    object \n",
      " 12  has_company                    63 non-null     object \n",
      " 13  has_gtin                       64 non-null     object \n",
      " 14  average_stock                  66 non-null     object \n",
      " 15  business_type                  832 non-null    object \n",
      " 16  declared_product_catalog_size  69 non-null     float64\n",
      " 17  declared_monthly_revenue       842 non-null    float64\n",
      "dtypes: float64(2), object(16)\n",
      "memory usage: 1.2+ MB\n"
     ]
    }
   ],
   "source": [
    "df.info()"
   ]
  },
  {
   "cell_type": "markdown",
   "id": "3811e7cc-5862-4965-a184-b8cf53b03556",
   "metadata": {},
   "source": [
    "# 데이터 확인 및 컬럼 정리\n",
    "## 데이터 확인"
   ]
  },
  {
   "cell_type": "code",
   "execution_count": 113,
   "id": "a3713f53-906f-4fc5-9e71-3e077f10da90",
   "metadata": {},
   "outputs": [
    {
     "data": {
      "text/plain": [
       "(8000, 18)"
      ]
     },
     "execution_count": 113,
     "metadata": {},
     "output_type": "execute_result"
    }
   ],
   "source": [
    "df.shape"
   ]
  },
  {
   "cell_type": "code",
   "execution_count": 114,
   "id": "3605bd21-e4ea-4089-b3c0-5ef5dab60111",
   "metadata": {},
   "outputs": [
    {
     "data": {
      "text/html": [
       "<div>\n",
       "<style scoped>\n",
       "    .dataframe tbody tr th:only-of-type {\n",
       "        vertical-align: middle;\n",
       "    }\n",
       "\n",
       "    .dataframe tbody tr th {\n",
       "        vertical-align: top;\n",
       "    }\n",
       "\n",
       "    .dataframe thead th {\n",
       "        text-align: right;\n",
       "    }\n",
       "</style>\n",
       "<table border=\"1\" class=\"dataframe\">\n",
       "  <thead>\n",
       "    <tr style=\"text-align: right;\">\n",
       "      <th></th>\n",
       "      <th>mql_id</th>\n",
       "      <th>first_contact_date</th>\n",
       "      <th>landing_page_id</th>\n",
       "      <th>channel</th>\n",
       "      <th>isPaid</th>\n",
       "      <th>seller_id</th>\n",
       "      <th>sdr_id</th>\n",
       "      <th>sr_id</th>\n",
       "      <th>won_date</th>\n",
       "      <th>business_segment</th>\n",
       "      <th>lead_type</th>\n",
       "      <th>lead_behaviour_profile</th>\n",
       "      <th>has_company</th>\n",
       "      <th>has_gtin</th>\n",
       "      <th>average_stock</th>\n",
       "      <th>business_type</th>\n",
       "      <th>declared_product_catalog_size</th>\n",
       "      <th>declared_monthly_revenue</th>\n",
       "    </tr>\n",
       "  </thead>\n",
       "  <tbody>\n",
       "    <tr>\n",
       "      <th>0</th>\n",
       "      <td>0b99dab71519032b917dc641cdd7ac5b</td>\n",
       "      <td>2017-06-14</td>\n",
       "      <td>d41d8cd98f00b204e9800998ecf8427e</td>\n",
       "      <td>unknown</td>\n",
       "      <td>unknown</td>\n",
       "      <td>NaN</td>\n",
       "      <td>NaN</td>\n",
       "      <td>NaN</td>\n",
       "      <td>NaN</td>\n",
       "      <td>NaN</td>\n",
       "      <td>NaN</td>\n",
       "      <td>NaN</td>\n",
       "      <td>NaN</td>\n",
       "      <td>NaN</td>\n",
       "      <td>NaN</td>\n",
       "      <td>NaN</td>\n",
       "      <td>NaN</td>\n",
       "      <td>NaN</td>\n",
       "    </tr>\n",
       "    <tr>\n",
       "      <th>1</th>\n",
       "      <td>6dd0ef38856fd5fb21aed5223aea9e66</td>\n",
       "      <td>2017-06-14</td>\n",
       "      <td>8f08d2ef8b9aec2ec5118fbcf7f96f11</td>\n",
       "      <td>display</td>\n",
       "      <td>paid</td>\n",
       "      <td>NaN</td>\n",
       "      <td>NaN</td>\n",
       "      <td>NaN</td>\n",
       "      <td>NaN</td>\n",
       "      <td>NaN</td>\n",
       "      <td>NaN</td>\n",
       "      <td>NaN</td>\n",
       "      <td>NaN</td>\n",
       "      <td>NaN</td>\n",
       "      <td>NaN</td>\n",
       "      <td>NaN</td>\n",
       "      <td>NaN</td>\n",
       "      <td>NaN</td>\n",
       "    </tr>\n",
       "  </tbody>\n",
       "</table>\n",
       "</div>"
      ],
      "text/plain": [
       "                             mql_id first_contact_date  \\\n",
       "0  0b99dab71519032b917dc641cdd7ac5b         2017-06-14   \n",
       "1  6dd0ef38856fd5fb21aed5223aea9e66         2017-06-14   \n",
       "\n",
       "                    landing_page_id  channel   isPaid seller_id sdr_id sr_id  \\\n",
       "0  d41d8cd98f00b204e9800998ecf8427e  unknown  unknown       NaN    NaN   NaN   \n",
       "1  8f08d2ef8b9aec2ec5118fbcf7f96f11  display     paid       NaN    NaN   NaN   \n",
       "\n",
       "  won_date business_segment lead_type lead_behaviour_profile has_company  \\\n",
       "0      NaN              NaN       NaN                    NaN         NaN   \n",
       "1      NaN              NaN       NaN                    NaN         NaN   \n",
       "\n",
       "  has_gtin average_stock business_type  declared_product_catalog_size  \\\n",
       "0      NaN           NaN           NaN                            NaN   \n",
       "1      NaN           NaN           NaN                            NaN   \n",
       "\n",
       "   declared_monthly_revenue  \n",
       "0                       NaN  \n",
       "1                       NaN  "
      ]
     },
     "execution_count": 114,
     "metadata": {},
     "output_type": "execute_result"
    }
   ],
   "source": [
    "df.head(2)"
   ]
  },
  {
   "cell_type": "code",
   "execution_count": 115,
   "id": "179143a9-7ee2-42d7-b451-eb9d302def30",
   "metadata": {},
   "outputs": [
    {
     "data": {
      "text/html": [
       "<div>\n",
       "<style scoped>\n",
       "    .dataframe tbody tr th:only-of-type {\n",
       "        vertical-align: middle;\n",
       "    }\n",
       "\n",
       "    .dataframe tbody tr th {\n",
       "        vertical-align: top;\n",
       "    }\n",
       "\n",
       "    .dataframe thead th {\n",
       "        text-align: right;\n",
       "    }\n",
       "</style>\n",
       "<table border=\"1\" class=\"dataframe\">\n",
       "  <thead>\n",
       "    <tr style=\"text-align: right;\">\n",
       "      <th></th>\n",
       "      <th>mql_id</th>\n",
       "      <th>first_contact_date</th>\n",
       "      <th>landing_page_id</th>\n",
       "      <th>channel</th>\n",
       "      <th>isPaid</th>\n",
       "      <th>seller_id</th>\n",
       "      <th>sdr_id</th>\n",
       "      <th>sr_id</th>\n",
       "      <th>won_date</th>\n",
       "      <th>business_segment</th>\n",
       "      <th>lead_type</th>\n",
       "      <th>lead_behaviour_profile</th>\n",
       "      <th>has_company</th>\n",
       "      <th>has_gtin</th>\n",
       "      <th>average_stock</th>\n",
       "      <th>business_type</th>\n",
       "      <th>declared_product_catalog_size</th>\n",
       "      <th>declared_monthly_revenue</th>\n",
       "    </tr>\n",
       "  </thead>\n",
       "  <tbody>\n",
       "    <tr>\n",
       "      <th>7998</th>\n",
       "      <td>60041d31882e8d08e106b82dd4197a76</td>\n",
       "      <td>2018-05-31</td>\n",
       "      <td>ce1a65abd0973638f1c887a6efcfa82d</td>\n",
       "      <td>organic_search</td>\n",
       "      <td>non_paid</td>\n",
       "      <td>NaN</td>\n",
       "      <td>NaN</td>\n",
       "      <td>NaN</td>\n",
       "      <td>NaN</td>\n",
       "      <td>NaN</td>\n",
       "      <td>NaN</td>\n",
       "      <td>NaN</td>\n",
       "      <td>NaN</td>\n",
       "      <td>NaN</td>\n",
       "      <td>NaN</td>\n",
       "      <td>NaN</td>\n",
       "      <td>NaN</td>\n",
       "      <td>NaN</td>\n",
       "    </tr>\n",
       "    <tr>\n",
       "      <th>7999</th>\n",
       "      <td>5572975b6c55e23bb68391acaa8ca141</td>\n",
       "      <td>2018-05-31</td>\n",
       "      <td>b76ef37428e6799c421989521c0e5077</td>\n",
       "      <td>unknown</td>\n",
       "      <td>unknown</td>\n",
       "      <td>NaN</td>\n",
       "      <td>NaN</td>\n",
       "      <td>NaN</td>\n",
       "      <td>NaN</td>\n",
       "      <td>NaN</td>\n",
       "      <td>NaN</td>\n",
       "      <td>NaN</td>\n",
       "      <td>NaN</td>\n",
       "      <td>NaN</td>\n",
       "      <td>NaN</td>\n",
       "      <td>NaN</td>\n",
       "      <td>NaN</td>\n",
       "      <td>NaN</td>\n",
       "    </tr>\n",
       "  </tbody>\n",
       "</table>\n",
       "</div>"
      ],
      "text/plain": [
       "                                mql_id first_contact_date  \\\n",
       "7998  60041d31882e8d08e106b82dd4197a76         2018-05-31   \n",
       "7999  5572975b6c55e23bb68391acaa8ca141         2018-05-31   \n",
       "\n",
       "                       landing_page_id         channel    isPaid seller_id  \\\n",
       "7998  ce1a65abd0973638f1c887a6efcfa82d  organic_search  non_paid       NaN   \n",
       "7999  b76ef37428e6799c421989521c0e5077         unknown   unknown       NaN   \n",
       "\n",
       "     sdr_id sr_id won_date business_segment lead_type lead_behaviour_profile  \\\n",
       "7998    NaN   NaN      NaN              NaN       NaN                    NaN   \n",
       "7999    NaN   NaN      NaN              NaN       NaN                    NaN   \n",
       "\n",
       "     has_company has_gtin average_stock business_type  \\\n",
       "7998         NaN      NaN           NaN           NaN   \n",
       "7999         NaN      NaN           NaN           NaN   \n",
       "\n",
       "      declared_product_catalog_size  declared_monthly_revenue  \n",
       "7998                            NaN                       NaN  \n",
       "7999                            NaN                       NaN  "
      ]
     },
     "execution_count": 115,
     "metadata": {},
     "output_type": "execute_result"
    }
   ],
   "source": [
    "df.tail(2)"
   ]
  },
  {
   "cell_type": "markdown",
   "id": "c7705f0f-4187-4127-88e5-a18f8924fa18",
   "metadata": {},
   "source": [
    "## 컬럼 정리"
   ]
  },
  {
   "cell_type": "code",
   "execution_count": 116,
   "id": "fd310310-bca0-4a70-abe2-eed07334a547",
   "metadata": {},
   "outputs": [
    {
     "data": {
      "text/plain": [
       "18"
      ]
     },
     "execution_count": 116,
     "metadata": {},
     "output_type": "execute_result"
    }
   ],
   "source": [
    "len(df.columns)"
   ]
  },
  {
   "cell_type": "code",
   "execution_count": 117,
   "id": "423f8c46-bace-4983-93fd-86d4ff6b6809",
   "metadata": {
    "scrolled": true
   },
   "outputs": [
    {
     "data": {
      "text/plain": [
       "['mql_id',\n",
       " 'first_contact_date',\n",
       " 'landing_page_id',\n",
       " 'channel',\n",
       " 'isPaid',\n",
       " 'seller_id',\n",
       " 'sdr_id',\n",
       " 'sr_id',\n",
       " 'won_date',\n",
       " 'business_segment',\n",
       " 'lead_type',\n",
       " 'lead_behaviour_profile',\n",
       " 'has_company',\n",
       " 'has_gtin',\n",
       " 'average_stock',\n",
       " 'business_type',\n",
       " 'declared_product_catalog_size',\n",
       " 'declared_monthly_revenue']"
      ]
     },
     "execution_count": 117,
     "metadata": {},
     "output_type": "execute_result"
    }
   ],
   "source": [
    "[i for i in df.columns]"
   ]
  },
  {
   "cell_type": "code",
   "execution_count": 118,
   "id": "2300ef2b-e526-4090-a0b5-cd67dbf5f857",
   "metadata": {},
   "outputs": [],
   "source": [
    "# 필요컬럼\n",
    "new_cols = [ \n",
    " # marketing\n",
    " # mql\n",
    " 'seller_id',\n",
    " 'mql_id',\n",
    " 'sdr_id',\n",
    " 'sr_id',\n",
    " 'won_date',\n",
    " 'business_segment',\n",
    " 'lead_type',\n",
    " 'lead_behaviour_profile',\n",
    " 'landing_page_id',\n",
    " 'business_type',\n",
    " # mql\n",
    " 'first_contact_date',\n",
    " 'landing_page_id',\n",
    " 'channel',\n",
    "'isPaid'\n",
    "]"
   ]
  },
  {
   "cell_type": "code",
   "execution_count": 119,
   "id": "2cf026b5-5a7a-46ad-a8c6-0d8c107372a4",
   "metadata": {},
   "outputs": [],
   "source": [
    "df = df[new_cols]"
   ]
  },
  {
   "cell_type": "code",
   "execution_count": 120,
   "id": "dd915bbf-452f-4643-b2ef-49b88d227452",
   "metadata": {},
   "outputs": [
    {
     "data": {
      "text/plain": [
       "14"
      ]
     },
     "execution_count": 120,
     "metadata": {},
     "output_type": "execute_result"
    }
   ],
   "source": [
    "len(df.columns)"
   ]
  },
  {
   "cell_type": "code",
   "execution_count": 121,
   "id": "7aca8e57-45bf-47a1-9fbf-3b5a77d93711",
   "metadata": {},
   "outputs": [
    {
     "data": {
      "text/html": [
       "<div>\n",
       "<style scoped>\n",
       "    .dataframe tbody tr th:only-of-type {\n",
       "        vertical-align: middle;\n",
       "    }\n",
       "\n",
       "    .dataframe tbody tr th {\n",
       "        vertical-align: top;\n",
       "    }\n",
       "\n",
       "    .dataframe thead th {\n",
       "        text-align: right;\n",
       "    }\n",
       "</style>\n",
       "<table border=\"1\" class=\"dataframe\">\n",
       "  <thead>\n",
       "    <tr style=\"text-align: right;\">\n",
       "      <th></th>\n",
       "      <th>seller_id</th>\n",
       "      <th>mql_id</th>\n",
       "      <th>sdr_id</th>\n",
       "      <th>sr_id</th>\n",
       "      <th>won_date</th>\n",
       "      <th>business_segment</th>\n",
       "      <th>lead_type</th>\n",
       "      <th>lead_behaviour_profile</th>\n",
       "      <th>landing_page_id</th>\n",
       "      <th>business_type</th>\n",
       "      <th>first_contact_date</th>\n",
       "      <th>landing_page_id</th>\n",
       "      <th>channel</th>\n",
       "      <th>isPaid</th>\n",
       "    </tr>\n",
       "  </thead>\n",
       "  <tbody>\n",
       "    <tr>\n",
       "      <th>0</th>\n",
       "      <td>NaN</td>\n",
       "      <td>0b99dab71519032b917dc641cdd7ac5b</td>\n",
       "      <td>NaN</td>\n",
       "      <td>NaN</td>\n",
       "      <td>NaN</td>\n",
       "      <td>NaN</td>\n",
       "      <td>NaN</td>\n",
       "      <td>NaN</td>\n",
       "      <td>d41d8cd98f00b204e9800998ecf8427e</td>\n",
       "      <td>NaN</td>\n",
       "      <td>2017-06-14</td>\n",
       "      <td>d41d8cd98f00b204e9800998ecf8427e</td>\n",
       "      <td>unknown</td>\n",
       "      <td>unknown</td>\n",
       "    </tr>\n",
       "    <tr>\n",
       "      <th>1</th>\n",
       "      <td>NaN</td>\n",
       "      <td>6dd0ef38856fd5fb21aed5223aea9e66</td>\n",
       "      <td>NaN</td>\n",
       "      <td>NaN</td>\n",
       "      <td>NaN</td>\n",
       "      <td>NaN</td>\n",
       "      <td>NaN</td>\n",
       "      <td>NaN</td>\n",
       "      <td>8f08d2ef8b9aec2ec5118fbcf7f96f11</td>\n",
       "      <td>NaN</td>\n",
       "      <td>2017-06-14</td>\n",
       "      <td>8f08d2ef8b9aec2ec5118fbcf7f96f11</td>\n",
       "      <td>display</td>\n",
       "      <td>paid</td>\n",
       "    </tr>\n",
       "  </tbody>\n",
       "</table>\n",
       "</div>"
      ],
      "text/plain": [
       "  seller_id                            mql_id sdr_id sr_id won_date  \\\n",
       "0       NaN  0b99dab71519032b917dc641cdd7ac5b    NaN   NaN      NaN   \n",
       "1       NaN  6dd0ef38856fd5fb21aed5223aea9e66    NaN   NaN      NaN   \n",
       "\n",
       "  business_segment lead_type lead_behaviour_profile  \\\n",
       "0              NaN       NaN                    NaN   \n",
       "1              NaN       NaN                    NaN   \n",
       "\n",
       "                    landing_page_id business_type first_contact_date  \\\n",
       "0  d41d8cd98f00b204e9800998ecf8427e           NaN         2017-06-14   \n",
       "1  8f08d2ef8b9aec2ec5118fbcf7f96f11           NaN         2017-06-14   \n",
       "\n",
       "                    landing_page_id  channel   isPaid  \n",
       "0  d41d8cd98f00b204e9800998ecf8427e  unknown  unknown  \n",
       "1  8f08d2ef8b9aec2ec5118fbcf7f96f11  display     paid  "
      ]
     },
     "execution_count": 121,
     "metadata": {},
     "output_type": "execute_result"
    }
   ],
   "source": [
    "df.head(2)"
   ]
  },
  {
   "cell_type": "code",
   "execution_count": 122,
   "id": "b94e62fc-70d0-477e-b75a-d415880e970b",
   "metadata": {},
   "outputs": [
    {
     "name": "stdout",
     "output_type": "stream",
     "text": [
      "<class 'pandas.core.frame.DataFrame'>\n",
      "Int64Index: 8000 entries, 0 to 7999\n",
      "Data columns (total 14 columns):\n",
      " #   Column                  Non-Null Count  Dtype \n",
      "---  ------                  --------------  ----- \n",
      " 0   seller_id               842 non-null    object\n",
      " 1   mql_id                  8000 non-null   object\n",
      " 2   sdr_id                  842 non-null    object\n",
      " 3   sr_id                   842 non-null    object\n",
      " 4   won_date                842 non-null    object\n",
      " 5   business_segment        841 non-null    object\n",
      " 6   lead_type               836 non-null    object\n",
      " 7   lead_behaviour_profile  665 non-null    object\n",
      " 8   landing_page_id         8000 non-null   object\n",
      " 9   business_type           832 non-null    object\n",
      " 10  first_contact_date      8000 non-null   object\n",
      " 11  landing_page_id         8000 non-null   object\n",
      " 12  channel                 8000 non-null   object\n",
      " 13  isPaid                  8000 non-null   object\n",
      "dtypes: object(14)\n",
      "memory usage: 937.5+ KB\n"
     ]
    }
   ],
   "source": [
    "df.info()"
   ]
  },
  {
   "cell_type": "markdown",
   "id": "fb367e95-d51c-4408-b817-8b84e44e5a34",
   "metadata": {},
   "source": [
    "# 유입된 seller들만 걸러내기 "
   ]
  },
  {
   "cell_type": "code",
   "execution_count": 123,
   "id": "a6fa06cb-1b43-41e7-8ae4-bdd57bbe31c3",
   "metadata": {
    "scrolled": true
   },
   "outputs": [
    {
     "data": {
      "text/html": [
       "<div>\n",
       "<style scoped>\n",
       "    .dataframe tbody tr th:only-of-type {\n",
       "        vertical-align: middle;\n",
       "    }\n",
       "\n",
       "    .dataframe tbody tr th {\n",
       "        vertical-align: top;\n",
       "    }\n",
       "\n",
       "    .dataframe thead th {\n",
       "        text-align: right;\n",
       "    }\n",
       "</style>\n",
       "<table border=\"1\" class=\"dataframe\">\n",
       "  <thead>\n",
       "    <tr style=\"text-align: right;\">\n",
       "      <th></th>\n",
       "      <th>seller_id</th>\n",
       "      <th>mql_id</th>\n",
       "      <th>sdr_id</th>\n",
       "      <th>sr_id</th>\n",
       "      <th>won_date</th>\n",
       "      <th>business_segment</th>\n",
       "      <th>lead_type</th>\n",
       "      <th>lead_behaviour_profile</th>\n",
       "      <th>landing_page_id</th>\n",
       "      <th>business_type</th>\n",
       "      <th>first_contact_date</th>\n",
       "      <th>landing_page_id</th>\n",
       "      <th>channel</th>\n",
       "      <th>isPaid</th>\n",
       "    </tr>\n",
       "  </thead>\n",
       "  <tbody>\n",
       "    <tr>\n",
       "      <th>62</th>\n",
       "      <td>53be10ff134691e94a4089b41c75874f</td>\n",
       "      <td>33ce1e734d9d50629fa2c36769285d53</td>\n",
       "      <td>2b63542749aa9caf15f21816da1db341</td>\n",
       "      <td>d3d1e91a157ea7f90548eef82f1955e3</td>\n",
       "      <td>2018-09-11 13:14:37</td>\n",
       "      <td>construction_tools_house_garden</td>\n",
       "      <td>online_small</td>\n",
       "      <td>wolf</td>\n",
       "      <td>d41d8cd98f00b204e9800998ecf8427e</td>\n",
       "      <td>reseller</td>\n",
       "      <td>2017-07-11</td>\n",
       "      <td>d41d8cd98f00b204e9800998ecf8427e</td>\n",
       "      <td>unknown</td>\n",
       "      <td>unknown</td>\n",
       "    </tr>\n",
       "    <tr>\n",
       "      <th>91</th>\n",
       "      <td>160851d3ece7aa1a510f8d1a4bb8a8af</td>\n",
       "      <td>e2e57ded5b59a2058dd5855564c6b5ea</td>\n",
       "      <td>b90f87164b5f8c2cfa5c8572834dbe3f</td>\n",
       "      <td>4b339f9567d060bcea4f5136b9f5949e</td>\n",
       "      <td>2018-07-18 20:24:28</td>\n",
       "      <td>construction_tools_house_garden</td>\n",
       "      <td>industry</td>\n",
       "      <td>cat</td>\n",
       "      <td>b76ef37428e6799c421989521c0e5077</td>\n",
       "      <td>manufacturer</td>\n",
       "      <td>2017-07-14</td>\n",
       "      <td>b76ef37428e6799c421989521c0e5077</td>\n",
       "      <td>unknown</td>\n",
       "      <td>unknown</td>\n",
       "    </tr>\n",
       "    <tr>\n",
       "      <th>249</th>\n",
       "      <td>120476eb7a04c149d14772edaf5d9bf2</td>\n",
       "      <td>0de705dc7d8026cc9b2128b775e4c35e</td>\n",
       "      <td>b90f87164b5f8c2cfa5c8572834dbe3f</td>\n",
       "      <td>85fc447d336637ba1df43e793199fbc8</td>\n",
       "      <td>2018-06-25 18:42:15</td>\n",
       "      <td>construction_tools_house_garden</td>\n",
       "      <td>online_big</td>\n",
       "      <td>wolf</td>\n",
       "      <td>3cd2a8301d5395f21cdd3094c9eaa2f4</td>\n",
       "      <td>reseller</td>\n",
       "      <td>2017-08-01</td>\n",
       "      <td>3cd2a8301d5395f21cdd3094c9eaa2f4</td>\n",
       "      <td>paid_search</td>\n",
       "      <td>paid</td>\n",
       "    </tr>\n",
       "    <tr>\n",
       "      <th>442</th>\n",
       "      <td>d449188091598bf0dbd32c312570f168</td>\n",
       "      <td>0ec14948e088cd74e70ad82de1128b3b</td>\n",
       "      <td>34d40cdaf94010a1d05b0d6212f9e909</td>\n",
       "      <td>495d4e95a8cf8bbf8b432b612a2aa328</td>\n",
       "      <td>2018-06-29 18:28:26</td>\n",
       "      <td>audio_video_electronics</td>\n",
       "      <td>offline</td>\n",
       "      <td>shark</td>\n",
       "      <td>87732658ba41d8775e8577df347a64db</td>\n",
       "      <td>reseller</td>\n",
       "      <td>2017-08-16</td>\n",
       "      <td>87732658ba41d8775e8577df347a64db</td>\n",
       "      <td>social</td>\n",
       "      <td>paid</td>\n",
       "    </tr>\n",
       "    <tr>\n",
       "      <th>449</th>\n",
       "      <td>7c7d0dee362960b1d9b01fe7284e19ba</td>\n",
       "      <td>b39ac02ff5021fed10cb9988a23d5d02</td>\n",
       "      <td>6aa3b86a83d784b05f0e37e26b20860d</td>\n",
       "      <td>56bf83c4bb35763a51c2baab501b4c67</td>\n",
       "      <td>2018-08-23 21:56:01</td>\n",
       "      <td>home_decor</td>\n",
       "      <td>online_small</td>\n",
       "      <td>shark</td>\n",
       "      <td>1722481ac9e5371e5099dea226b5421d</td>\n",
       "      <td>manufacturer</td>\n",
       "      <td>2017-08-17</td>\n",
       "      <td>1722481ac9e5371e5099dea226b5421d</td>\n",
       "      <td>social</td>\n",
       "      <td>paid</td>\n",
       "    </tr>\n",
       "    <tr>\n",
       "      <th>...</th>\n",
       "      <td>...</td>\n",
       "      <td>...</td>\n",
       "      <td>...</td>\n",
       "      <td>...</td>\n",
       "      <td>...</td>\n",
       "      <td>...</td>\n",
       "      <td>...</td>\n",
       "      <td>...</td>\n",
       "      <td>...</td>\n",
       "      <td>...</td>\n",
       "      <td>...</td>\n",
       "      <td>...</td>\n",
       "      <td>...</td>\n",
       "      <td>...</td>\n",
       "    </tr>\n",
       "    <tr>\n",
       "      <th>7977</th>\n",
       "      <td>1d953075c2f0dd990bacf27b83b330f1</td>\n",
       "      <td>aadd608980d2f5f7ee3942cc912eef00</td>\n",
       "      <td>4b339f9567d060bcea4f5136b9f5949e</td>\n",
       "      <td>4ef15afb4b2723d8f3d81e51ec7afefe</td>\n",
       "      <td>2018-06-20 12:24:10</td>\n",
       "      <td>computers</td>\n",
       "      <td>online_medium</td>\n",
       "      <td>cat, wolf</td>\n",
       "      <td>a7982125ff7aa3b2054c6e44f9d28522</td>\n",
       "      <td>reseller</td>\n",
       "      <td>2018-05-31</td>\n",
       "      <td>a7982125ff7aa3b2054c6e44f9d28522</td>\n",
       "      <td>organic_search</td>\n",
       "      <td>non_paid</td>\n",
       "    </tr>\n",
       "    <tr>\n",
       "      <th>7979</th>\n",
       "      <td>1f080fb8ad65b21e195b903bd366ae68</td>\n",
       "      <td>56e421575126bfe4c0592353bab5cfe6</td>\n",
       "      <td>370c9f455f93a9a96cbe9bea48e70033</td>\n",
       "      <td>56bf83c4bb35763a51c2baab501b4c67</td>\n",
       "      <td>2018-06-07 13:59:42</td>\n",
       "      <td>pet</td>\n",
       "      <td>online_medium</td>\n",
       "      <td>cat</td>\n",
       "      <td>35c9b150ab36fe584c1f24fd458c453a</td>\n",
       "      <td>reseller</td>\n",
       "      <td>2018-05-31</td>\n",
       "      <td>35c9b150ab36fe584c1f24fd458c453a</td>\n",
       "      <td>paid_search</td>\n",
       "      <td>paid</td>\n",
       "    </tr>\n",
       "    <tr>\n",
       "      <th>7987</th>\n",
       "      <td>71729348559edea55a3e7a2bc2a2986d</td>\n",
       "      <td>06bc22c1b089be523e97524b67084ca0</td>\n",
       "      <td>4b339f9567d060bcea4f5136b9f5949e</td>\n",
       "      <td>fbf4aef3f6915dc0c3c97d6812522f6a</td>\n",
       "      <td>2018-06-06 17:50:28</td>\n",
       "      <td>health_beauty</td>\n",
       "      <td>online_medium</td>\n",
       "      <td>cat</td>\n",
       "      <td>b76ef37428e6799c421989521c0e5077</td>\n",
       "      <td>manufacturer</td>\n",
       "      <td>2018-05-31</td>\n",
       "      <td>b76ef37428e6799c421989521c0e5077</td>\n",
       "      <td>unknown</td>\n",
       "      <td>unknown</td>\n",
       "    </tr>\n",
       "    <tr>\n",
       "      <th>7990</th>\n",
       "      <td>08083b94b3c7e0847502a026125dbfbd</td>\n",
       "      <td>4c898465f7e0becf53dd933ab2a1b6f9</td>\n",
       "      <td>4b339f9567d060bcea4f5136b9f5949e</td>\n",
       "      <td>fbf4aef3f6915dc0c3c97d6812522f6a</td>\n",
       "      <td>2018-06-04 18:53:50</td>\n",
       "      <td>construction_tools_house_garden</td>\n",
       "      <td>online_top</td>\n",
       "      <td>cat</td>\n",
       "      <td>40dec9f3d5259a3d2dbcdab2114fae47</td>\n",
       "      <td>reseller</td>\n",
       "      <td>2018-05-31</td>\n",
       "      <td>40dec9f3d5259a3d2dbcdab2114fae47</td>\n",
       "      <td>paid_search</td>\n",
       "      <td>paid</td>\n",
       "    </tr>\n",
       "    <tr>\n",
       "      <th>7991</th>\n",
       "      <td>12e6ecc830aa50dcace131431d90f426</td>\n",
       "      <td>1360d3a80eca6292f33a04f7aebb5fee</td>\n",
       "      <td>45749fb708130f78d0db07d8d80f030b</td>\n",
       "      <td>9ae085775a198122c5586fa830ff7f2b</td>\n",
       "      <td>2018-07-02 13:40:15</td>\n",
       "      <td>home_decor</td>\n",
       "      <td>industry</td>\n",
       "      <td>cat</td>\n",
       "      <td>22c29808c4f815213303f8933030604c</td>\n",
       "      <td>manufacturer</td>\n",
       "      <td>2018-05-31</td>\n",
       "      <td>22c29808c4f815213303f8933030604c</td>\n",
       "      <td>referral</td>\n",
       "      <td>paid</td>\n",
       "    </tr>\n",
       "  </tbody>\n",
       "</table>\n",
       "<p>842 rows × 14 columns</p>\n",
       "</div>"
      ],
      "text/plain": [
       "                             seller_id                            mql_id  \\\n",
       "62    53be10ff134691e94a4089b41c75874f  33ce1e734d9d50629fa2c36769285d53   \n",
       "91    160851d3ece7aa1a510f8d1a4bb8a8af  e2e57ded5b59a2058dd5855564c6b5ea   \n",
       "249   120476eb7a04c149d14772edaf5d9bf2  0de705dc7d8026cc9b2128b775e4c35e   \n",
       "442   d449188091598bf0dbd32c312570f168  0ec14948e088cd74e70ad82de1128b3b   \n",
       "449   7c7d0dee362960b1d9b01fe7284e19ba  b39ac02ff5021fed10cb9988a23d5d02   \n",
       "...                                ...                               ...   \n",
       "7977  1d953075c2f0dd990bacf27b83b330f1  aadd608980d2f5f7ee3942cc912eef00   \n",
       "7979  1f080fb8ad65b21e195b903bd366ae68  56e421575126bfe4c0592353bab5cfe6   \n",
       "7987  71729348559edea55a3e7a2bc2a2986d  06bc22c1b089be523e97524b67084ca0   \n",
       "7990  08083b94b3c7e0847502a026125dbfbd  4c898465f7e0becf53dd933ab2a1b6f9   \n",
       "7991  12e6ecc830aa50dcace131431d90f426  1360d3a80eca6292f33a04f7aebb5fee   \n",
       "\n",
       "                                sdr_id                             sr_id  \\\n",
       "62    2b63542749aa9caf15f21816da1db341  d3d1e91a157ea7f90548eef82f1955e3   \n",
       "91    b90f87164b5f8c2cfa5c8572834dbe3f  4b339f9567d060bcea4f5136b9f5949e   \n",
       "249   b90f87164b5f8c2cfa5c8572834dbe3f  85fc447d336637ba1df43e793199fbc8   \n",
       "442   34d40cdaf94010a1d05b0d6212f9e909  495d4e95a8cf8bbf8b432b612a2aa328   \n",
       "449   6aa3b86a83d784b05f0e37e26b20860d  56bf83c4bb35763a51c2baab501b4c67   \n",
       "...                                ...                               ...   \n",
       "7977  4b339f9567d060bcea4f5136b9f5949e  4ef15afb4b2723d8f3d81e51ec7afefe   \n",
       "7979  370c9f455f93a9a96cbe9bea48e70033  56bf83c4bb35763a51c2baab501b4c67   \n",
       "7987  4b339f9567d060bcea4f5136b9f5949e  fbf4aef3f6915dc0c3c97d6812522f6a   \n",
       "7990  4b339f9567d060bcea4f5136b9f5949e  fbf4aef3f6915dc0c3c97d6812522f6a   \n",
       "7991  45749fb708130f78d0db07d8d80f030b  9ae085775a198122c5586fa830ff7f2b   \n",
       "\n",
       "                 won_date                 business_segment      lead_type  \\\n",
       "62    2018-09-11 13:14:37  construction_tools_house_garden   online_small   \n",
       "91    2018-07-18 20:24:28  construction_tools_house_garden       industry   \n",
       "249   2018-06-25 18:42:15  construction_tools_house_garden     online_big   \n",
       "442   2018-06-29 18:28:26          audio_video_electronics        offline   \n",
       "449   2018-08-23 21:56:01                       home_decor   online_small   \n",
       "...                   ...                              ...            ...   \n",
       "7977  2018-06-20 12:24:10                        computers  online_medium   \n",
       "7979  2018-06-07 13:59:42                              pet  online_medium   \n",
       "7987  2018-06-06 17:50:28                    health_beauty  online_medium   \n",
       "7990  2018-06-04 18:53:50  construction_tools_house_garden     online_top   \n",
       "7991  2018-07-02 13:40:15                       home_decor       industry   \n",
       "\n",
       "     lead_behaviour_profile                   landing_page_id business_type  \\\n",
       "62                     wolf  d41d8cd98f00b204e9800998ecf8427e      reseller   \n",
       "91                      cat  b76ef37428e6799c421989521c0e5077  manufacturer   \n",
       "249                    wolf  3cd2a8301d5395f21cdd3094c9eaa2f4      reseller   \n",
       "442                   shark  87732658ba41d8775e8577df347a64db      reseller   \n",
       "449                   shark  1722481ac9e5371e5099dea226b5421d  manufacturer   \n",
       "...                     ...                               ...           ...   \n",
       "7977              cat, wolf  a7982125ff7aa3b2054c6e44f9d28522      reseller   \n",
       "7979                    cat  35c9b150ab36fe584c1f24fd458c453a      reseller   \n",
       "7987                    cat  b76ef37428e6799c421989521c0e5077  manufacturer   \n",
       "7990                    cat  40dec9f3d5259a3d2dbcdab2114fae47      reseller   \n",
       "7991                    cat  22c29808c4f815213303f8933030604c  manufacturer   \n",
       "\n",
       "     first_contact_date                   landing_page_id         channel  \\\n",
       "62           2017-07-11  d41d8cd98f00b204e9800998ecf8427e         unknown   \n",
       "91           2017-07-14  b76ef37428e6799c421989521c0e5077         unknown   \n",
       "249          2017-08-01  3cd2a8301d5395f21cdd3094c9eaa2f4     paid_search   \n",
       "442          2017-08-16  87732658ba41d8775e8577df347a64db          social   \n",
       "449          2017-08-17  1722481ac9e5371e5099dea226b5421d          social   \n",
       "...                 ...                               ...             ...   \n",
       "7977         2018-05-31  a7982125ff7aa3b2054c6e44f9d28522  organic_search   \n",
       "7979         2018-05-31  35c9b150ab36fe584c1f24fd458c453a     paid_search   \n",
       "7987         2018-05-31  b76ef37428e6799c421989521c0e5077         unknown   \n",
       "7990         2018-05-31  40dec9f3d5259a3d2dbcdab2114fae47     paid_search   \n",
       "7991         2018-05-31  22c29808c4f815213303f8933030604c        referral   \n",
       "\n",
       "        isPaid  \n",
       "62     unknown  \n",
       "91     unknown  \n",
       "249       paid  \n",
       "442       paid  \n",
       "449       paid  \n",
       "...        ...  \n",
       "7977  non_paid  \n",
       "7979      paid  \n",
       "7987   unknown  \n",
       "7990      paid  \n",
       "7991      paid  \n",
       "\n",
       "[842 rows x 14 columns]"
      ]
     },
     "execution_count": 123,
     "metadata": {},
     "output_type": "execute_result"
    }
   ],
   "source": [
    "df2 = df[df['sdr_id'].notnull()]\n",
    "df2"
   ]
  },
  {
   "cell_type": "code",
   "execution_count": 124,
   "id": "4d127769-714f-4a7b-9d6b-af2379ad05ee",
   "metadata": {},
   "outputs": [
    {
     "name": "stdout",
     "output_type": "stream",
     "text": [
      "<class 'pandas.core.frame.DataFrame'>\n",
      "Int64Index: 842 entries, 62 to 7991\n",
      "Data columns (total 14 columns):\n",
      " #   Column                  Non-Null Count  Dtype \n",
      "---  ------                  --------------  ----- \n",
      " 0   seller_id               842 non-null    object\n",
      " 1   mql_id                  842 non-null    object\n",
      " 2   sdr_id                  842 non-null    object\n",
      " 3   sr_id                   842 non-null    object\n",
      " 4   won_date                842 non-null    object\n",
      " 5   business_segment        841 non-null    object\n",
      " 6   lead_type               836 non-null    object\n",
      " 7   lead_behaviour_profile  665 non-null    object\n",
      " 8   landing_page_id         842 non-null    object\n",
      " 9   business_type           832 non-null    object\n",
      " 10  first_contact_date      842 non-null    object\n",
      " 11  landing_page_id         842 non-null    object\n",
      " 12  channel                 842 non-null    object\n",
      " 13  isPaid                  842 non-null    object\n",
      "dtypes: object(14)\n",
      "memory usage: 98.7+ KB\n"
     ]
    }
   ],
   "source": [
    "df2.info()"
   ]
  },
  {
   "cell_type": "code",
   "execution_count": 125,
   "id": "12a8b7f7-a421-4bf4-8ea0-54c27609a2c1",
   "metadata": {},
   "outputs": [
    {
     "data": {
      "text/html": [
       "<div>\n",
       "<style scoped>\n",
       "    .dataframe tbody tr th:only-of-type {\n",
       "        vertical-align: middle;\n",
       "    }\n",
       "\n",
       "    .dataframe tbody tr th {\n",
       "        vertical-align: top;\n",
       "    }\n",
       "\n",
       "    .dataframe thead th {\n",
       "        text-align: right;\n",
       "    }\n",
       "</style>\n",
       "<table border=\"1\" class=\"dataframe\">\n",
       "  <thead>\n",
       "    <tr style=\"text-align: right;\">\n",
       "      <th></th>\n",
       "      <th>seller_id</th>\n",
       "      <th>mql_id</th>\n",
       "      <th>sdr_id</th>\n",
       "      <th>sr_id</th>\n",
       "      <th>won_date</th>\n",
       "      <th>business_segment</th>\n",
       "      <th>lead_type</th>\n",
       "      <th>lead_behaviour_profile</th>\n",
       "      <th>landing_page_id</th>\n",
       "      <th>business_type</th>\n",
       "      <th>first_contact_date</th>\n",
       "      <th>landing_page_id</th>\n",
       "      <th>channel</th>\n",
       "      <th>isPaid</th>\n",
       "    </tr>\n",
       "  </thead>\n",
       "  <tbody>\n",
       "    <tr>\n",
       "      <th>62</th>\n",
       "      <td>53be10ff134691e94a4089b41c75874f</td>\n",
       "      <td>33ce1e734d9d50629fa2c36769285d53</td>\n",
       "      <td>2b63542749aa9caf15f21816da1db341</td>\n",
       "      <td>d3d1e91a157ea7f90548eef82f1955e3</td>\n",
       "      <td>2018-09-11 13:14:37</td>\n",
       "      <td>construction_tools_house_garden</td>\n",
       "      <td>online_small</td>\n",
       "      <td>wolf</td>\n",
       "      <td>d41d8cd98f00b204e9800998ecf8427e</td>\n",
       "      <td>reseller</td>\n",
       "      <td>2017-07-11</td>\n",
       "      <td>d41d8cd98f00b204e9800998ecf8427e</td>\n",
       "      <td>unknown</td>\n",
       "      <td>unknown</td>\n",
       "    </tr>\n",
       "    <tr>\n",
       "      <th>91</th>\n",
       "      <td>160851d3ece7aa1a510f8d1a4bb8a8af</td>\n",
       "      <td>e2e57ded5b59a2058dd5855564c6b5ea</td>\n",
       "      <td>b90f87164b5f8c2cfa5c8572834dbe3f</td>\n",
       "      <td>4b339f9567d060bcea4f5136b9f5949e</td>\n",
       "      <td>2018-07-18 20:24:28</td>\n",
       "      <td>construction_tools_house_garden</td>\n",
       "      <td>industry</td>\n",
       "      <td>cat</td>\n",
       "      <td>b76ef37428e6799c421989521c0e5077</td>\n",
       "      <td>manufacturer</td>\n",
       "      <td>2017-07-14</td>\n",
       "      <td>b76ef37428e6799c421989521c0e5077</td>\n",
       "      <td>unknown</td>\n",
       "      <td>unknown</td>\n",
       "    </tr>\n",
       "    <tr>\n",
       "      <th>249</th>\n",
       "      <td>120476eb7a04c149d14772edaf5d9bf2</td>\n",
       "      <td>0de705dc7d8026cc9b2128b775e4c35e</td>\n",
       "      <td>b90f87164b5f8c2cfa5c8572834dbe3f</td>\n",
       "      <td>85fc447d336637ba1df43e793199fbc8</td>\n",
       "      <td>2018-06-25 18:42:15</td>\n",
       "      <td>construction_tools_house_garden</td>\n",
       "      <td>online_big</td>\n",
       "      <td>wolf</td>\n",
       "      <td>3cd2a8301d5395f21cdd3094c9eaa2f4</td>\n",
       "      <td>reseller</td>\n",
       "      <td>2017-08-01</td>\n",
       "      <td>3cd2a8301d5395f21cdd3094c9eaa2f4</td>\n",
       "      <td>paid_search</td>\n",
       "      <td>paid</td>\n",
       "    </tr>\n",
       "    <tr>\n",
       "      <th>442</th>\n",
       "      <td>d449188091598bf0dbd32c312570f168</td>\n",
       "      <td>0ec14948e088cd74e70ad82de1128b3b</td>\n",
       "      <td>34d40cdaf94010a1d05b0d6212f9e909</td>\n",
       "      <td>495d4e95a8cf8bbf8b432b612a2aa328</td>\n",
       "      <td>2018-06-29 18:28:26</td>\n",
       "      <td>audio_video_electronics</td>\n",
       "      <td>offline</td>\n",
       "      <td>shark</td>\n",
       "      <td>87732658ba41d8775e8577df347a64db</td>\n",
       "      <td>reseller</td>\n",
       "      <td>2017-08-16</td>\n",
       "      <td>87732658ba41d8775e8577df347a64db</td>\n",
       "      <td>social</td>\n",
       "      <td>paid</td>\n",
       "    </tr>\n",
       "    <tr>\n",
       "      <th>449</th>\n",
       "      <td>7c7d0dee362960b1d9b01fe7284e19ba</td>\n",
       "      <td>b39ac02ff5021fed10cb9988a23d5d02</td>\n",
       "      <td>6aa3b86a83d784b05f0e37e26b20860d</td>\n",
       "      <td>56bf83c4bb35763a51c2baab501b4c67</td>\n",
       "      <td>2018-08-23 21:56:01</td>\n",
       "      <td>home_decor</td>\n",
       "      <td>online_small</td>\n",
       "      <td>shark</td>\n",
       "      <td>1722481ac9e5371e5099dea226b5421d</td>\n",
       "      <td>manufacturer</td>\n",
       "      <td>2017-08-17</td>\n",
       "      <td>1722481ac9e5371e5099dea226b5421d</td>\n",
       "      <td>social</td>\n",
       "      <td>paid</td>\n",
       "    </tr>\n",
       "    <tr>\n",
       "      <th>...</th>\n",
       "      <td>...</td>\n",
       "      <td>...</td>\n",
       "      <td>...</td>\n",
       "      <td>...</td>\n",
       "      <td>...</td>\n",
       "      <td>...</td>\n",
       "      <td>...</td>\n",
       "      <td>...</td>\n",
       "      <td>...</td>\n",
       "      <td>...</td>\n",
       "      <td>...</td>\n",
       "      <td>...</td>\n",
       "      <td>...</td>\n",
       "      <td>...</td>\n",
       "    </tr>\n",
       "    <tr>\n",
       "      <th>7977</th>\n",
       "      <td>1d953075c2f0dd990bacf27b83b330f1</td>\n",
       "      <td>aadd608980d2f5f7ee3942cc912eef00</td>\n",
       "      <td>4b339f9567d060bcea4f5136b9f5949e</td>\n",
       "      <td>4ef15afb4b2723d8f3d81e51ec7afefe</td>\n",
       "      <td>2018-06-20 12:24:10</td>\n",
       "      <td>computers</td>\n",
       "      <td>online_medium</td>\n",
       "      <td>cat, wolf</td>\n",
       "      <td>a7982125ff7aa3b2054c6e44f9d28522</td>\n",
       "      <td>reseller</td>\n",
       "      <td>2018-05-31</td>\n",
       "      <td>a7982125ff7aa3b2054c6e44f9d28522</td>\n",
       "      <td>organic_search</td>\n",
       "      <td>non_paid</td>\n",
       "    </tr>\n",
       "    <tr>\n",
       "      <th>7979</th>\n",
       "      <td>1f080fb8ad65b21e195b903bd366ae68</td>\n",
       "      <td>56e421575126bfe4c0592353bab5cfe6</td>\n",
       "      <td>370c9f455f93a9a96cbe9bea48e70033</td>\n",
       "      <td>56bf83c4bb35763a51c2baab501b4c67</td>\n",
       "      <td>2018-06-07 13:59:42</td>\n",
       "      <td>pet</td>\n",
       "      <td>online_medium</td>\n",
       "      <td>cat</td>\n",
       "      <td>35c9b150ab36fe584c1f24fd458c453a</td>\n",
       "      <td>reseller</td>\n",
       "      <td>2018-05-31</td>\n",
       "      <td>35c9b150ab36fe584c1f24fd458c453a</td>\n",
       "      <td>paid_search</td>\n",
       "      <td>paid</td>\n",
       "    </tr>\n",
       "    <tr>\n",
       "      <th>7987</th>\n",
       "      <td>71729348559edea55a3e7a2bc2a2986d</td>\n",
       "      <td>06bc22c1b089be523e97524b67084ca0</td>\n",
       "      <td>4b339f9567d060bcea4f5136b9f5949e</td>\n",
       "      <td>fbf4aef3f6915dc0c3c97d6812522f6a</td>\n",
       "      <td>2018-06-06 17:50:28</td>\n",
       "      <td>health_beauty</td>\n",
       "      <td>online_medium</td>\n",
       "      <td>cat</td>\n",
       "      <td>b76ef37428e6799c421989521c0e5077</td>\n",
       "      <td>manufacturer</td>\n",
       "      <td>2018-05-31</td>\n",
       "      <td>b76ef37428e6799c421989521c0e5077</td>\n",
       "      <td>unknown</td>\n",
       "      <td>unknown</td>\n",
       "    </tr>\n",
       "    <tr>\n",
       "      <th>7990</th>\n",
       "      <td>08083b94b3c7e0847502a026125dbfbd</td>\n",
       "      <td>4c898465f7e0becf53dd933ab2a1b6f9</td>\n",
       "      <td>4b339f9567d060bcea4f5136b9f5949e</td>\n",
       "      <td>fbf4aef3f6915dc0c3c97d6812522f6a</td>\n",
       "      <td>2018-06-04 18:53:50</td>\n",
       "      <td>construction_tools_house_garden</td>\n",
       "      <td>online_top</td>\n",
       "      <td>cat</td>\n",
       "      <td>40dec9f3d5259a3d2dbcdab2114fae47</td>\n",
       "      <td>reseller</td>\n",
       "      <td>2018-05-31</td>\n",
       "      <td>40dec9f3d5259a3d2dbcdab2114fae47</td>\n",
       "      <td>paid_search</td>\n",
       "      <td>paid</td>\n",
       "    </tr>\n",
       "    <tr>\n",
       "      <th>7991</th>\n",
       "      <td>12e6ecc830aa50dcace131431d90f426</td>\n",
       "      <td>1360d3a80eca6292f33a04f7aebb5fee</td>\n",
       "      <td>45749fb708130f78d0db07d8d80f030b</td>\n",
       "      <td>9ae085775a198122c5586fa830ff7f2b</td>\n",
       "      <td>2018-07-02 13:40:15</td>\n",
       "      <td>home_decor</td>\n",
       "      <td>industry</td>\n",
       "      <td>cat</td>\n",
       "      <td>22c29808c4f815213303f8933030604c</td>\n",
       "      <td>manufacturer</td>\n",
       "      <td>2018-05-31</td>\n",
       "      <td>22c29808c4f815213303f8933030604c</td>\n",
       "      <td>referral</td>\n",
       "      <td>paid</td>\n",
       "    </tr>\n",
       "  </tbody>\n",
       "</table>\n",
       "<p>842 rows × 14 columns</p>\n",
       "</div>"
      ],
      "text/plain": [
       "                             seller_id                            mql_id  \\\n",
       "62    53be10ff134691e94a4089b41c75874f  33ce1e734d9d50629fa2c36769285d53   \n",
       "91    160851d3ece7aa1a510f8d1a4bb8a8af  e2e57ded5b59a2058dd5855564c6b5ea   \n",
       "249   120476eb7a04c149d14772edaf5d9bf2  0de705dc7d8026cc9b2128b775e4c35e   \n",
       "442   d449188091598bf0dbd32c312570f168  0ec14948e088cd74e70ad82de1128b3b   \n",
       "449   7c7d0dee362960b1d9b01fe7284e19ba  b39ac02ff5021fed10cb9988a23d5d02   \n",
       "...                                ...                               ...   \n",
       "7977  1d953075c2f0dd990bacf27b83b330f1  aadd608980d2f5f7ee3942cc912eef00   \n",
       "7979  1f080fb8ad65b21e195b903bd366ae68  56e421575126bfe4c0592353bab5cfe6   \n",
       "7987  71729348559edea55a3e7a2bc2a2986d  06bc22c1b089be523e97524b67084ca0   \n",
       "7990  08083b94b3c7e0847502a026125dbfbd  4c898465f7e0becf53dd933ab2a1b6f9   \n",
       "7991  12e6ecc830aa50dcace131431d90f426  1360d3a80eca6292f33a04f7aebb5fee   \n",
       "\n",
       "                                sdr_id                             sr_id  \\\n",
       "62    2b63542749aa9caf15f21816da1db341  d3d1e91a157ea7f90548eef82f1955e3   \n",
       "91    b90f87164b5f8c2cfa5c8572834dbe3f  4b339f9567d060bcea4f5136b9f5949e   \n",
       "249   b90f87164b5f8c2cfa5c8572834dbe3f  85fc447d336637ba1df43e793199fbc8   \n",
       "442   34d40cdaf94010a1d05b0d6212f9e909  495d4e95a8cf8bbf8b432b612a2aa328   \n",
       "449   6aa3b86a83d784b05f0e37e26b20860d  56bf83c4bb35763a51c2baab501b4c67   \n",
       "...                                ...                               ...   \n",
       "7977  4b339f9567d060bcea4f5136b9f5949e  4ef15afb4b2723d8f3d81e51ec7afefe   \n",
       "7979  370c9f455f93a9a96cbe9bea48e70033  56bf83c4bb35763a51c2baab501b4c67   \n",
       "7987  4b339f9567d060bcea4f5136b9f5949e  fbf4aef3f6915dc0c3c97d6812522f6a   \n",
       "7990  4b339f9567d060bcea4f5136b9f5949e  fbf4aef3f6915dc0c3c97d6812522f6a   \n",
       "7991  45749fb708130f78d0db07d8d80f030b  9ae085775a198122c5586fa830ff7f2b   \n",
       "\n",
       "                 won_date                 business_segment      lead_type  \\\n",
       "62    2018-09-11 13:14:37  construction_tools_house_garden   online_small   \n",
       "91    2018-07-18 20:24:28  construction_tools_house_garden       industry   \n",
       "249   2018-06-25 18:42:15  construction_tools_house_garden     online_big   \n",
       "442   2018-06-29 18:28:26          audio_video_electronics        offline   \n",
       "449   2018-08-23 21:56:01                       home_decor   online_small   \n",
       "...                   ...                              ...            ...   \n",
       "7977  2018-06-20 12:24:10                        computers  online_medium   \n",
       "7979  2018-06-07 13:59:42                              pet  online_medium   \n",
       "7987  2018-06-06 17:50:28                    health_beauty  online_medium   \n",
       "7990  2018-06-04 18:53:50  construction_tools_house_garden     online_top   \n",
       "7991  2018-07-02 13:40:15                       home_decor       industry   \n",
       "\n",
       "     lead_behaviour_profile                   landing_page_id business_type  \\\n",
       "62                     wolf  d41d8cd98f00b204e9800998ecf8427e      reseller   \n",
       "91                      cat  b76ef37428e6799c421989521c0e5077  manufacturer   \n",
       "249                    wolf  3cd2a8301d5395f21cdd3094c9eaa2f4      reseller   \n",
       "442                   shark  87732658ba41d8775e8577df347a64db      reseller   \n",
       "449                   shark  1722481ac9e5371e5099dea226b5421d  manufacturer   \n",
       "...                     ...                               ...           ...   \n",
       "7977              cat, wolf  a7982125ff7aa3b2054c6e44f9d28522      reseller   \n",
       "7979                    cat  35c9b150ab36fe584c1f24fd458c453a      reseller   \n",
       "7987                    cat  b76ef37428e6799c421989521c0e5077  manufacturer   \n",
       "7990                    cat  40dec9f3d5259a3d2dbcdab2114fae47      reseller   \n",
       "7991                    cat  22c29808c4f815213303f8933030604c  manufacturer   \n",
       "\n",
       "     first_contact_date                   landing_page_id         channel  \\\n",
       "62           2017-07-11  d41d8cd98f00b204e9800998ecf8427e         unknown   \n",
       "91           2017-07-14  b76ef37428e6799c421989521c0e5077         unknown   \n",
       "249          2017-08-01  3cd2a8301d5395f21cdd3094c9eaa2f4     paid_search   \n",
       "442          2017-08-16  87732658ba41d8775e8577df347a64db          social   \n",
       "449          2017-08-17  1722481ac9e5371e5099dea226b5421d          social   \n",
       "...                 ...                               ...             ...   \n",
       "7977         2018-05-31  a7982125ff7aa3b2054c6e44f9d28522  organic_search   \n",
       "7979         2018-05-31  35c9b150ab36fe584c1f24fd458c453a     paid_search   \n",
       "7987         2018-05-31  b76ef37428e6799c421989521c0e5077         unknown   \n",
       "7990         2018-05-31  40dec9f3d5259a3d2dbcdab2114fae47     paid_search   \n",
       "7991         2018-05-31  22c29808c4f815213303f8933030604c        referral   \n",
       "\n",
       "        isPaid  \n",
       "62     unknown  \n",
       "91     unknown  \n",
       "249       paid  \n",
       "442       paid  \n",
       "449       paid  \n",
       "...        ...  \n",
       "7977  non_paid  \n",
       "7979      paid  \n",
       "7987   unknown  \n",
       "7990      paid  \n",
       "7991      paid  \n",
       "\n",
       "[842 rows x 14 columns]"
      ]
     },
     "execution_count": 125,
     "metadata": {},
     "output_type": "execute_result"
    }
   ],
   "source": [
    "df2"
   ]
  },
  {
   "cell_type": "markdown",
   "id": "769343ea-10ed-4fa4-a348-fbdbc729b349",
   "metadata": {},
   "source": [
    "# 데이터 확인"
   ]
  },
  {
   "cell_type": "code",
   "execution_count": 126,
   "id": "65a0c219-3789-43e3-804d-d0c642bde659",
   "metadata": {},
   "outputs": [
    {
     "data": {
      "text/plain": [
       "842"
      ]
     },
     "execution_count": 126,
     "metadata": {},
     "output_type": "execute_result"
    }
   ],
   "source": [
    "len(df2)"
   ]
  },
  {
   "cell_type": "code",
   "execution_count": 127,
   "id": "3dc6f11c-e453-40cf-93f9-d30a83c96afc",
   "metadata": {},
   "outputs": [
    {
     "data": {
      "text/html": [
       "<div>\n",
       "<style scoped>\n",
       "    .dataframe tbody tr th:only-of-type {\n",
       "        vertical-align: middle;\n",
       "    }\n",
       "\n",
       "    .dataframe tbody tr th {\n",
       "        vertical-align: top;\n",
       "    }\n",
       "\n",
       "    .dataframe thead th {\n",
       "        text-align: right;\n",
       "    }\n",
       "</style>\n",
       "<table border=\"1\" class=\"dataframe\">\n",
       "  <thead>\n",
       "    <tr style=\"text-align: right;\">\n",
       "      <th></th>\n",
       "      <th>seller_id</th>\n",
       "      <th>mql_id</th>\n",
       "      <th>sdr_id</th>\n",
       "      <th>sr_id</th>\n",
       "      <th>won_date</th>\n",
       "      <th>business_segment</th>\n",
       "      <th>lead_type</th>\n",
       "      <th>lead_behaviour_profile</th>\n",
       "      <th>landing_page_id</th>\n",
       "      <th>business_type</th>\n",
       "      <th>first_contact_date</th>\n",
       "      <th>landing_page_id</th>\n",
       "      <th>channel</th>\n",
       "      <th>isPaid</th>\n",
       "    </tr>\n",
       "  </thead>\n",
       "  <tbody>\n",
       "    <tr>\n",
       "      <th>62</th>\n",
       "      <td>53be10ff134691e94a4089b41c75874f</td>\n",
       "      <td>33ce1e734d9d50629fa2c36769285d53</td>\n",
       "      <td>2b63542749aa9caf15f21816da1db341</td>\n",
       "      <td>d3d1e91a157ea7f90548eef82f1955e3</td>\n",
       "      <td>2018-09-11 13:14:37</td>\n",
       "      <td>construction_tools_house_garden</td>\n",
       "      <td>online_small</td>\n",
       "      <td>wolf</td>\n",
       "      <td>d41d8cd98f00b204e9800998ecf8427e</td>\n",
       "      <td>reseller</td>\n",
       "      <td>2017-07-11</td>\n",
       "      <td>d41d8cd98f00b204e9800998ecf8427e</td>\n",
       "      <td>unknown</td>\n",
       "      <td>unknown</td>\n",
       "    </tr>\n",
       "    <tr>\n",
       "      <th>91</th>\n",
       "      <td>160851d3ece7aa1a510f8d1a4bb8a8af</td>\n",
       "      <td>e2e57ded5b59a2058dd5855564c6b5ea</td>\n",
       "      <td>b90f87164b5f8c2cfa5c8572834dbe3f</td>\n",
       "      <td>4b339f9567d060bcea4f5136b9f5949e</td>\n",
       "      <td>2018-07-18 20:24:28</td>\n",
       "      <td>construction_tools_house_garden</td>\n",
       "      <td>industry</td>\n",
       "      <td>cat</td>\n",
       "      <td>b76ef37428e6799c421989521c0e5077</td>\n",
       "      <td>manufacturer</td>\n",
       "      <td>2017-07-14</td>\n",
       "      <td>b76ef37428e6799c421989521c0e5077</td>\n",
       "      <td>unknown</td>\n",
       "      <td>unknown</td>\n",
       "    </tr>\n",
       "    <tr>\n",
       "      <th>249</th>\n",
       "      <td>120476eb7a04c149d14772edaf5d9bf2</td>\n",
       "      <td>0de705dc7d8026cc9b2128b775e4c35e</td>\n",
       "      <td>b90f87164b5f8c2cfa5c8572834dbe3f</td>\n",
       "      <td>85fc447d336637ba1df43e793199fbc8</td>\n",
       "      <td>2018-06-25 18:42:15</td>\n",
       "      <td>construction_tools_house_garden</td>\n",
       "      <td>online_big</td>\n",
       "      <td>wolf</td>\n",
       "      <td>3cd2a8301d5395f21cdd3094c9eaa2f4</td>\n",
       "      <td>reseller</td>\n",
       "      <td>2017-08-01</td>\n",
       "      <td>3cd2a8301d5395f21cdd3094c9eaa2f4</td>\n",
       "      <td>paid_search</td>\n",
       "      <td>paid</td>\n",
       "    </tr>\n",
       "    <tr>\n",
       "      <th>442</th>\n",
       "      <td>d449188091598bf0dbd32c312570f168</td>\n",
       "      <td>0ec14948e088cd74e70ad82de1128b3b</td>\n",
       "      <td>34d40cdaf94010a1d05b0d6212f9e909</td>\n",
       "      <td>495d4e95a8cf8bbf8b432b612a2aa328</td>\n",
       "      <td>2018-06-29 18:28:26</td>\n",
       "      <td>audio_video_electronics</td>\n",
       "      <td>offline</td>\n",
       "      <td>shark</td>\n",
       "      <td>87732658ba41d8775e8577df347a64db</td>\n",
       "      <td>reseller</td>\n",
       "      <td>2017-08-16</td>\n",
       "      <td>87732658ba41d8775e8577df347a64db</td>\n",
       "      <td>social</td>\n",
       "      <td>paid</td>\n",
       "    </tr>\n",
       "    <tr>\n",
       "      <th>449</th>\n",
       "      <td>7c7d0dee362960b1d9b01fe7284e19ba</td>\n",
       "      <td>b39ac02ff5021fed10cb9988a23d5d02</td>\n",
       "      <td>6aa3b86a83d784b05f0e37e26b20860d</td>\n",
       "      <td>56bf83c4bb35763a51c2baab501b4c67</td>\n",
       "      <td>2018-08-23 21:56:01</td>\n",
       "      <td>home_decor</td>\n",
       "      <td>online_small</td>\n",
       "      <td>shark</td>\n",
       "      <td>1722481ac9e5371e5099dea226b5421d</td>\n",
       "      <td>manufacturer</td>\n",
       "      <td>2017-08-17</td>\n",
       "      <td>1722481ac9e5371e5099dea226b5421d</td>\n",
       "      <td>social</td>\n",
       "      <td>paid</td>\n",
       "    </tr>\n",
       "  </tbody>\n",
       "</table>\n",
       "</div>"
      ],
      "text/plain": [
       "                            seller_id                            mql_id  \\\n",
       "62   53be10ff134691e94a4089b41c75874f  33ce1e734d9d50629fa2c36769285d53   \n",
       "91   160851d3ece7aa1a510f8d1a4bb8a8af  e2e57ded5b59a2058dd5855564c6b5ea   \n",
       "249  120476eb7a04c149d14772edaf5d9bf2  0de705dc7d8026cc9b2128b775e4c35e   \n",
       "442  d449188091598bf0dbd32c312570f168  0ec14948e088cd74e70ad82de1128b3b   \n",
       "449  7c7d0dee362960b1d9b01fe7284e19ba  b39ac02ff5021fed10cb9988a23d5d02   \n",
       "\n",
       "                               sdr_id                             sr_id  \\\n",
       "62   2b63542749aa9caf15f21816da1db341  d3d1e91a157ea7f90548eef82f1955e3   \n",
       "91   b90f87164b5f8c2cfa5c8572834dbe3f  4b339f9567d060bcea4f5136b9f5949e   \n",
       "249  b90f87164b5f8c2cfa5c8572834dbe3f  85fc447d336637ba1df43e793199fbc8   \n",
       "442  34d40cdaf94010a1d05b0d6212f9e909  495d4e95a8cf8bbf8b432b612a2aa328   \n",
       "449  6aa3b86a83d784b05f0e37e26b20860d  56bf83c4bb35763a51c2baab501b4c67   \n",
       "\n",
       "                won_date                 business_segment     lead_type  \\\n",
       "62   2018-09-11 13:14:37  construction_tools_house_garden  online_small   \n",
       "91   2018-07-18 20:24:28  construction_tools_house_garden      industry   \n",
       "249  2018-06-25 18:42:15  construction_tools_house_garden    online_big   \n",
       "442  2018-06-29 18:28:26          audio_video_electronics       offline   \n",
       "449  2018-08-23 21:56:01                       home_decor  online_small   \n",
       "\n",
       "    lead_behaviour_profile                   landing_page_id business_type  \\\n",
       "62                    wolf  d41d8cd98f00b204e9800998ecf8427e      reseller   \n",
       "91                     cat  b76ef37428e6799c421989521c0e5077  manufacturer   \n",
       "249                   wolf  3cd2a8301d5395f21cdd3094c9eaa2f4      reseller   \n",
       "442                  shark  87732658ba41d8775e8577df347a64db      reseller   \n",
       "449                  shark  1722481ac9e5371e5099dea226b5421d  manufacturer   \n",
       "\n",
       "    first_contact_date                   landing_page_id      channel   isPaid  \n",
       "62          2017-07-11  d41d8cd98f00b204e9800998ecf8427e      unknown  unknown  \n",
       "91          2017-07-14  b76ef37428e6799c421989521c0e5077      unknown  unknown  \n",
       "249         2017-08-01  3cd2a8301d5395f21cdd3094c9eaa2f4  paid_search     paid  \n",
       "442         2017-08-16  87732658ba41d8775e8577df347a64db       social     paid  \n",
       "449         2017-08-17  1722481ac9e5371e5099dea226b5421d       social     paid  "
      ]
     },
     "execution_count": 127,
     "metadata": {},
     "output_type": "execute_result"
    }
   ],
   "source": [
    "df2.head()"
   ]
  },
  {
   "cell_type": "code",
   "execution_count": 128,
   "id": "b4efbb6b-07f9-4e02-9e9a-ce7a480049b5",
   "metadata": {},
   "outputs": [
    {
     "data": {
      "text/plain": [
       "2018-05-04 03:00:00    6\n",
       "2018-04-24 03:00:00    4\n",
       "2018-03-27 03:00:00    3\n",
       "2018-04-13 03:00:00    3\n",
       "2018-01-22 02:00:00    2\n",
       "                      ..\n",
       "2018-02-20 17:44:19    1\n",
       "2018-03-01 21:03:12    1\n",
       "2018-02-27 17:39:50    1\n",
       "2018-04-27 13:27:25    1\n",
       "2018-07-02 13:40:15    1\n",
       "Name: won_date, Length: 824, dtype: int64"
      ]
     },
     "execution_count": 128,
     "metadata": {},
     "output_type": "execute_result"
    }
   ],
   "source": [
    "df2['won_date'].value_counts()"
   ]
  },
  {
   "cell_type": "code",
   "execution_count": 129,
   "id": "cb352ac2-019b-44c6-adcf-ab12c4e34c09",
   "metadata": {
    "scrolled": true
   },
   "outputs": [
    {
     "data": {
      "text/plain": [
       "home_decor                         105\n",
       "health_beauty                       93\n",
       "car_accessories                     77\n",
       "household_utilities                 71\n",
       "construction_tools_house_garden     69\n",
       "audio_video_electronics             64\n",
       "computers                           34\n",
       "pet                                 30\n",
       "food_supplement                     28\n",
       "food_drink                          26\n",
       "sports_leisure                      25\n",
       "bags_backpacks                      22\n",
       "bed_bath_table                      22\n",
       "toys                                20\n",
       "fashion_accessories                 19\n",
       "home_office_furniture               14\n",
       "phone_mobile                        13\n",
       "stationery                          13\n",
       "handcrafted                         12\n",
       "small_appliances                    12\n",
       "baby                                10\n",
       "music_instruments                    9\n",
       "books                                9\n",
       "jewerly                              8\n",
       "watches                              8\n",
       "home_appliances                      7\n",
       "party                                5\n",
       "gifts                                5\n",
       "air_conditioning                     3\n",
       "other                                3\n",
       "perfume                              2\n",
       "games_consoles                       2\n",
       "religious                            1\n",
       "Name: business_segment, dtype: int64"
      ]
     },
     "execution_count": 129,
     "metadata": {},
     "output_type": "execute_result"
    }
   ],
   "source": [
    "df2['business_segment'].value_counts()"
   ]
  },
  {
   "cell_type": "code",
   "execution_count": 130,
   "id": "8c33352f-237b-42b5-b204-bb328ea46711",
   "metadata": {},
   "outputs": [
    {
     "data": {
      "text/plain": [
       "online_medium      332\n",
       "online_big         126\n",
       "industry           123\n",
       "offline            104\n",
       "online_small        77\n",
       "online_beginner     57\n",
       "online_top          14\n",
       "other                3\n",
       "Name: lead_type, dtype: int64"
      ]
     },
     "execution_count": 130,
     "metadata": {},
     "output_type": "execute_result"
    }
   ],
   "source": [
    "df2['lead_type'].value_counts()"
   ]
  },
  {
   "cell_type": "code",
   "execution_count": 131,
   "id": "561e4fe0-0345-438d-a37b-597c10b5bbb2",
   "metadata": {},
   "outputs": [
    {
     "data": {
      "text/plain": [
       "organic_search       30\n",
       "paid_search          23\n",
       "unknown              22\n",
       "direct_traffic       10\n",
       "social                8\n",
       "referral              5\n",
       "email                 4\n",
       "display               1\n",
       "other_publicities     1\n",
       "Name: channel, dtype: int64"
      ]
     },
     "execution_count": 131,
     "metadata": {},
     "output_type": "execute_result"
    }
   ],
   "source": [
    "df2[df2['lead_type']=='offline']['channel'].value_counts()\n"
   ]
  },
  {
   "cell_type": "code",
   "execution_count": 164,
   "id": "1799f90b-898d-4b16-a219-721a35806789",
   "metadata": {},
   "outputs": [
    {
     "data": {
      "image/png": "[encoded data removed]",
      "text/plain": [
       "<Figure size 864x576 with 1 Axes>"
      ]
     },
     "metadata": {},
     "output_type": "display_data"
    }
   ],
   "source": [
    "plt.figure (figsize = (12,8), facecolor = 'white')\n",
    "df2['channel'].value_counts().plot.pie(autopct='%.2f%%')\n",
    "plt.title('유입채널비교')\n",
    "plt.show()"
   ]
  },
  {
   "cell_type": "code",
   "execution_count": 133,
   "id": "22d6f912-10c6-487b-b57a-3519b97156e4",
   "metadata": {},
   "outputs": [
    {
     "data": {
      "text/plain": [
       "cat            407\n",
       "eagle          123\n",
       "wolf            95\n",
       "shark           24\n",
       "cat, wolf        8\n",
       "eagle, cat       3\n",
       "eagle, wolf      3\n",
       "shark, wolf      1\n",
       "shark, cat       1\n",
       "Name: lead_behaviour_profile, dtype: int64"
      ]
     },
     "execution_count": 133,
     "metadata": {},
     "output_type": "execute_result"
    }
   ],
   "source": [
    "df2['lead_behaviour_profile'].value_counts()"
   ]
  },
  {
   "cell_type": "code",
   "execution_count": 134,
   "id": "80484404-8fea-4d86-bfbb-8c294c990457",
   "metadata": {},
   "outputs": [
    {
     "data": {
      "text/plain": [
       "organic_search       271\n",
       "paid_search          195\n",
       "unknown              193\n",
       "social                75\n",
       "direct_traffic        56\n",
       "referral              24\n",
       "email                 15\n",
       "display                6\n",
       "other                  4\n",
       "other_publicities      3\n",
       "Name: channel, dtype: int64"
      ]
     },
     "execution_count": 134,
     "metadata": {},
     "output_type": "execute_result"
    }
   ],
   "source": [
    "df2['channel'].value_counts()"
   ]
  },
  {
   "cell_type": "code",
   "execution_count": 165,
   "id": "b530af9c-81da-41af-aea6-b7310852251b",
   "metadata": {},
   "outputs": [
    {
     "data": {
      "image/png": "[encoded data removed]",
      "text/plain": [
       "<Figure size 864x576 with 1 Axes>"
      ]
     },
     "metadata": {},
     "output_type": "display_data"
    }
   ],
   "source": [
    "plt.figure (figsize = (12,8), facecolor = 'white')\n",
    "df2['channel'].value_counts().plot.pie(autopct='%.2f%%')\n",
    "plt.title('유입채널비교')\n",
    "plt.show()"
   ]
  },
  {
   "cell_type": "code",
   "execution_count": 136,
   "id": "075bde7c-5093-46ec-93cb-2b7d770c6e74",
   "metadata": {},
   "outputs": [
    {
     "data": {
      "text/plain": [
       "non_paid    327\n",
       "paid        322\n",
       "unknown     193\n",
       "Name: isPaid, dtype: int64"
      ]
     },
     "execution_count": 136,
     "metadata": {},
     "output_type": "execute_result"
    }
   ],
   "source": [
    "df2['isPaid'].value_counts()"
   ]
  },
  {
   "cell_type": "code",
   "execution_count": 166,
   "id": "2ff254e8-ca1c-485b-aea0-647033188ab9",
   "metadata": {},
   "outputs": [
    {
     "data": {
      "image/png": "[encoded data removed]",
      "text/plain": [
       "<Figure size 864x576 with 1 Axes>"
      ]
     },
     "metadata": {},
     "output_type": "display_data"
    }
   ],
   "source": [
    "plt.figure (figsize = (12,8), facecolor = 'white')\n",
    "df2['isPaid'].value_counts().plot.pie(autopct='%.2f%%')\n",
    "plt.title('유입채널비교')\n",
    "plt.show()"
   ]
  },
  {
   "cell_type": "code",
   "execution_count": 138,
   "id": "11fc8f93-dc16-4a1f-abd0-487ef6cfae33",
   "metadata": {},
   "outputs": [
    {
     "data": {
      "text/html": [
       "<div>\n",
       "<style scoped>\n",
       "    .dataframe tbody tr th:only-of-type {\n",
       "        vertical-align: middle;\n",
       "    }\n",
       "\n",
       "    .dataframe tbody tr th {\n",
       "        vertical-align: top;\n",
       "    }\n",
       "\n",
       "    .dataframe thead th {\n",
       "        text-align: right;\n",
       "    }\n",
       "</style>\n",
       "<table border=\"1\" class=\"dataframe\">\n",
       "  <thead>\n",
       "    <tr style=\"text-align: right;\">\n",
       "      <th></th>\n",
       "      <th>seller_id</th>\n",
       "      <th>mql_id</th>\n",
       "      <th>sdr_id</th>\n",
       "      <th>sr_id</th>\n",
       "      <th>won_date</th>\n",
       "      <th>business_segment</th>\n",
       "      <th>lead_type</th>\n",
       "      <th>lead_behaviour_profile</th>\n",
       "      <th>landing_page_id</th>\n",
       "      <th>business_type</th>\n",
       "      <th>first_contact_date</th>\n",
       "      <th>landing_page_id</th>\n",
       "      <th>channel</th>\n",
       "      <th>isPaid</th>\n",
       "    </tr>\n",
       "  </thead>\n",
       "  <tbody>\n",
       "    <tr>\n",
       "      <th>62</th>\n",
       "      <td>53be10ff134691e94a4089b41c75874f</td>\n",
       "      <td>33ce1e734d9d50629fa2c36769285d53</td>\n",
       "      <td>2b63542749aa9caf15f21816da1db341</td>\n",
       "      <td>d3d1e91a157ea7f90548eef82f1955e3</td>\n",
       "      <td>2018-09-11 13:14:37</td>\n",
       "      <td>construction_tools_house_garden</td>\n",
       "      <td>online_small</td>\n",
       "      <td>wolf</td>\n",
       "      <td>d41d8cd98f00b204e9800998ecf8427e</td>\n",
       "      <td>reseller</td>\n",
       "      <td>2017-07-11</td>\n",
       "      <td>d41d8cd98f00b204e9800998ecf8427e</td>\n",
       "      <td>unknown</td>\n",
       "      <td>unknown</td>\n",
       "    </tr>\n",
       "    <tr>\n",
       "      <th>91</th>\n",
       "      <td>160851d3ece7aa1a510f8d1a4bb8a8af</td>\n",
       "      <td>e2e57ded5b59a2058dd5855564c6b5ea</td>\n",
       "      <td>b90f87164b5f8c2cfa5c8572834dbe3f</td>\n",
       "      <td>4b339f9567d060bcea4f5136b9f5949e</td>\n",
       "      <td>2018-07-18 20:24:28</td>\n",
       "      <td>construction_tools_house_garden</td>\n",
       "      <td>industry</td>\n",
       "      <td>cat</td>\n",
       "      <td>b76ef37428e6799c421989521c0e5077</td>\n",
       "      <td>manufacturer</td>\n",
       "      <td>2017-07-14</td>\n",
       "      <td>b76ef37428e6799c421989521c0e5077</td>\n",
       "      <td>unknown</td>\n",
       "      <td>unknown</td>\n",
       "    </tr>\n",
       "  </tbody>\n",
       "</table>\n",
       "</div>"
      ],
      "text/plain": [
       "                           seller_id                            mql_id  \\\n",
       "62  53be10ff134691e94a4089b41c75874f  33ce1e734d9d50629fa2c36769285d53   \n",
       "91  160851d3ece7aa1a510f8d1a4bb8a8af  e2e57ded5b59a2058dd5855564c6b5ea   \n",
       "\n",
       "                              sdr_id                             sr_id  \\\n",
       "62  2b63542749aa9caf15f21816da1db341  d3d1e91a157ea7f90548eef82f1955e3   \n",
       "91  b90f87164b5f8c2cfa5c8572834dbe3f  4b339f9567d060bcea4f5136b9f5949e   \n",
       "\n",
       "               won_date                 business_segment     lead_type  \\\n",
       "62  2018-09-11 13:14:37  construction_tools_house_garden  online_small   \n",
       "91  2018-07-18 20:24:28  construction_tools_house_garden      industry   \n",
       "\n",
       "   lead_behaviour_profile                   landing_page_id business_type  \\\n",
       "62                   wolf  d41d8cd98f00b204e9800998ecf8427e      reseller   \n",
       "91                    cat  b76ef37428e6799c421989521c0e5077  manufacturer   \n",
       "\n",
       "   first_contact_date                   landing_page_id  channel   isPaid  \n",
       "62         2017-07-11  d41d8cd98f00b204e9800998ecf8427e  unknown  unknown  \n",
       "91         2017-07-14  b76ef37428e6799c421989521c0e5077  unknown  unknown  "
      ]
     },
     "execution_count": 138,
     "metadata": {},
     "output_type": "execute_result"
    }
   ],
   "source": [
    "df2.head(2)"
   ]
  },
  {
   "cell_type": "code",
   "execution_count": null,
   "id": "7cd106ef-2de9-4c22-83aa-164290c696f0",
   "metadata": {},
   "outputs": [],
   "source": []
  },
  {
   "cell_type": "code",
   "execution_count": null,
   "id": "4f7bb9bb-e031-4a90-8aca-ba255767345a",
   "metadata": {},
   "outputs": [],
   "source": []
  },
  {
   "cell_type": "code",
   "execution_count": null,
   "id": "4b370f26-b342-4c2a-b72b-eed0c6ce1a86",
   "metadata": {},
   "outputs": [],
   "source": []
  },
  {
   "cell_type": "code",
   "execution_count": null,
   "id": "fc623374-3e8f-4e07-b748-2d686b8e9e2e",
   "metadata": {},
   "outputs": [],
   "source": []
  },
  {
   "cell_type": "code",
   "execution_count": null,
   "id": "745a6129-e165-4341-8f91-5ab2ac5b1016",
   "metadata": {},
   "outputs": [],
   "source": []
  }
 ],
 "metadata": {
  "kernelspec": {
   "display_name": "Python 3",
   "language": "python",
   "name": "python3"
  },
  "language_info": {
   "codemirror_mode": {
    "name": "ipython",
    "version": 3
   },
   "file_extension": ".py",
   "mimetype": "text/x-python",
   "name": "python",
   "nbconvert_exporter": "python",
   "pygments_lexer": "ipython3",
   "version": "3.8.8"
  }
 },
 "nbformat": 4,
 "nbformat_minor": 5
}
